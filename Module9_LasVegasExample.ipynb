{
  "nbformat": 4,
  "nbformat_minor": 0,
  "metadata": {
    "kernelspec": {
      "display_name": "Python 3",
      "language": "python",
      "name": "python3"
    },
    "language_info": {
      "codemirror_mode": {
        "name": "ipython",
        "version": 3
      },
      "file_extension": ".py",
      "mimetype": "text/x-python",
      "name": "python",
      "nbconvert_exporter": "python",
      "pygments_lexer": "ipython3",
      "version": "3.8.3"
    },
    "colab": {
      "name": "Module9_LasVegasExample.ipynb",
      "provenance": [],
      "include_colab_link": true
    }
  },
  "cells": [
    {
      "cell_type": "markdown",
      "metadata": {
        "id": "view-in-github",
        "colab_type": "text"
      },
      "source": [
        "<a href=\"https://colab.research.google.com/github/danielbauer1979/ML_656/blob/main/Module9_LasVegasExample.ipynb\" target=\"_parent\"><img src=\"https://colab.research.google.com/assets/colab-badge.svg\" alt=\"Open In Colab\"/></a>"
      ]
    },
    {
      "cell_type": "code",
      "metadata": {
        "id": "7vCC-SQb7VRR"
      },
      "source": [
        "import numpy as np \n",
        "import matplotlib.pyplot as plt  \n",
        "import pandas as pd \n",
        "import seaborn as sns\n",
        "import graphviz\n",
        "import pydot\n",
        "from io import StringIO  \n",
        "\n",
        "from sklearn.preprocessing import StandardScaler, scale\n",
        "from sklearn.model_selection import train_test_split, cross_val_score\n",
        "from sklearn.linear_model import LogisticRegression \n",
        "from sklearn.metrics import accuracy_score, confusion_matrix, classification_report, multilabel_confusion_matrix\n",
        "\n",
        "import tensorflow as tf\n",
        "from tensorflow import keras\n",
        "from keras.utils import np_utils\n",
        "from tensorflow.keras import layers"
      ],
      "execution_count": null,
      "outputs": []
    },
    {
      "cell_type": "markdown",
      "metadata": {
        "id": "tRIewfHHQt-u"
      },
      "source": [
        "# Las Vegas Dataset"
      ]
    },
    {
      "cell_type": "code",
      "metadata": {
        "id": "joqrQm2gSDdZ"
      },
      "source": [
        "!git clone https://github.com/danielbauer1979/ML_656.git"
      ],
      "execution_count": null,
      "outputs": []
    },
    {
      "cell_type": "code",
      "metadata": {
        "id": "jILOaSki7VRX"
      },
      "source": [
        "lasvegas = pd.read_csv('ML_656/LasVegasTripAdvisorReviews.csv')\n",
        "lasvegas.head()"
      ],
      "execution_count": null,
      "outputs": []
    },
    {
      "cell_type": "code",
      "metadata": {
        "id": "GjuUR7MlQUuo"
      },
      "source": [
        "numerics = list(lasvegas.select_dtypes(include=['int64']).columns)\n",
        "numerics.remove('Hotel stars')\n",
        "numerics.remove('Score')\n",
        "factors = list(lasvegas.select_dtypes(include=['object']).columns)\n",
        "factors.append('Hotel stars')\n",
        "factors.remove('User country')\n",
        "factors.remove('Hotel name')"
      ],
      "execution_count": null,
      "outputs": []
    },
    {
      "cell_type": "code",
      "metadata": {
        "id": "OxYvOYsiPN4R"
      },
      "source": [
        "lasvegas_numcols = lasvegas[numerics]\n",
        "lasvegas_faccols = lasvegas[factors]\n",
        "dummies = pd.get_dummies(lasvegas_faccols, drop_first=True)\n",
        "lasvegas_numcols_sc_0 = scale(lasvegas_numcols)\n",
        "lasvegas_numcols_sc = pd.DataFrame(data=lasvegas_numcols_sc_0, columns = lasvegas_numcols.columns, index = dummies.index)\n",
        "lasvegas_sc = pd.concat([lasvegas_numcols_sc, dummies], axis = 1)\n",
        "lasvegas_sc = pd.concat([lasvegas_sc, lasvegas['Score']], axis =1)\n",
        "lasvegas_sc = lasvegas_sc.rename(columns={\"Score\":\"Y\"})\n",
        "lasvegas_sc.head()"
      ],
      "execution_count": null,
      "outputs": []
    },
    {
      "cell_type": "code",
      "metadata": {
        "id": "55xSsRHJLUuu"
      },
      "source": [
        "np.random.seed(42)\n",
        "train, test = train_test_split(lasvegas_sc, test_size = 0.3)\n",
        "X_train = train.drop(columns = ['Y']).values\n",
        "y_train = train['Y'].values\n",
        "X_test = test.drop(columns = ['Y']).values\n",
        "y_test = test['Y'].values"
      ],
      "execution_count": null,
      "outputs": []
    },
    {
      "cell_type": "markdown",
      "metadata": {
        "id": "iaTQiwHTOkGg"
      },
      "source": [
        "## Neural, once again"
      ]
    },
    {
      "cell_type": "code",
      "metadata": {
        "id": "q1WJb8RNOi-Z"
      },
      "source": [
        "inputs = keras.Input(shape=(17,))\n",
        "x = layers.Dense(3, activation=\"relu\", name=\"dense_1\")(inputs)\n",
        "x = layers.Dense(2, activation=\"relu\", name=\"dense_2\")(x)\n",
        "outputs = layers.Dense(1, name=\"predictions\")(x)\n",
        "lasvegas_reg_nnet = keras.Model(inputs=inputs, outputs=outputs)\n",
        "lasvegas_reg_nnet.compile(\n",
        "  optimizer=keras.optimizers.Adam(learning_rate=0.004),\n",
        "  # Loss function to minimize\n",
        "  loss='mean_squared_error',\n",
        "  # List of metrics to monitor\n",
        ")"
      ],
      "execution_count": null,
      "outputs": []
    },
    {
      "cell_type": "code",
      "metadata": {
        "id": "Le607HsOPamj"
      },
      "source": [
        "history_reg = lasvegas_reg_nnet.fit(\n",
        "  X_train,\n",
        "  y_train,\n",
        "  batch_size=50,\n",
        "  epochs=850\n",
        ")"
      ],
      "execution_count": null,
      "outputs": []
    },
    {
      "cell_type": "code",
      "metadata": {
        "id": "tycKXBI_P8ZA"
      },
      "source": [
        "lasvegas_nnet_reg_preds = lasvegas_reg_nnet.predict(X_test)\n",
        "lasvegas_nnet_reg_preds = lasvegas_nnet_reg_preds.reshape((152,))\n",
        "np.corrcoef(lasvegas_nnet_reg_preds,y_test)[0,1] * np.corrcoef(lasvegas_nnet_reg_preds,y_test)[0,1]"
      ],
      "execution_count": null,
      "outputs": []
    },
    {
      "cell_type": "code",
      "metadata": {
        "id": "8Jf3BvvHUXCE"
      },
      "source": [
        "lasvegas_nnet_reg_preds"
      ],
      "execution_count": null,
      "outputs": []
    },
    {
      "cell_type": "code",
      "metadata": {
        "id": "hGfHwwCjV4uc"
      },
      "source": [
        "lasvegas_nnet_reg_preds_clss = np.round(lasvegas_nnet_reg_preds)\n",
        "lasvegas_nnet_reg_preds_clss"
      ],
      "execution_count": null,
      "outputs": []
    },
    {
      "cell_type": "code",
      "metadata": {
        "id": "DO3n2vyEWGyq"
      },
      "source": [
        "confusion_matrix(y_test, lasvegas_nnet_reg_preds_clss)"
      ],
      "execution_count": null,
      "outputs": []
    },
    {
      "cell_type": "markdown",
      "metadata": {
        "id": "tjRNxZxKN_Ve"
      },
      "source": [
        "## Multinomial Regression"
      ]
    },
    {
      "cell_type": "code",
      "metadata": {
        "id": "kgnMkaPFSaiP"
      },
      "source": [
        "multin_model = LogisticRegression(fit_intercept=True, multi_class='multinomial',max_iter=10000).fit(X_train,y_train)"
      ],
      "execution_count": null,
      "outputs": []
    },
    {
      "cell_type": "code",
      "metadata": {
        "id": "wh3g9Y9_TbIk"
      },
      "source": [
        "y_mnmod_pred = multin_model.predict(X_test)\n",
        "y_mnmod_pred"
      ],
      "execution_count": null,
      "outputs": []
    },
    {
      "cell_type": "code",
      "metadata": {
        "id": "7cRNWn1WUeRx"
      },
      "source": [
        "y_test"
      ],
      "execution_count": null,
      "outputs": []
    },
    {
      "cell_type": "code",
      "metadata": {
        "id": "x7wp5GvWTprX"
      },
      "source": [
        "np.corrcoef(y_mnmod_pred,y_test)[0,1] * np.corrcoef(y_mnmod_pred,y_test)[0,1]"
      ],
      "execution_count": null,
      "outputs": []
    },
    {
      "cell_type": "code",
      "metadata": {
        "id": "B5Tz4CZmMdCT"
      },
      "source": [
        "confusion_matrix(y_test, y_mnmod_pred)"
      ],
      "execution_count": null,
      "outputs": []
    },
    {
      "cell_type": "code",
      "metadata": {
        "id": "6pJUQvQmLTAN"
      },
      "source": [
        "multilabel_confusion_matrix(y_test, y_mnmod_pred)"
      ],
      "execution_count": null,
      "outputs": []
    },
    {
      "cell_type": "code",
      "metadata": {
        "id": "DqmtFWcYMylf"
      },
      "source": [
        "accuracy_score(y_test, y_mnmod_pred)"
      ],
      "execution_count": null,
      "outputs": []
    },
    {
      "cell_type": "markdown",
      "metadata": {
        "id": "vl89fVc9VtVt"
      },
      "source": [
        "## Neural Nets"
      ]
    },
    {
      "cell_type": "code",
      "metadata": {
        "id": "RsfXaENPUp7S"
      },
      "source": [
        "dummy_y_train = np_utils.to_categorical(y_train)"
      ],
      "execution_count": null,
      "outputs": []
    },
    {
      "cell_type": "code",
      "metadata": {
        "id": "t2MGGWxkeDtd"
      },
      "source": [
        "train.info()"
      ],
      "execution_count": null,
      "outputs": []
    },
    {
      "cell_type": "code",
      "metadata": {
        "id": "jZX4DiACVwef"
      },
      "source": [
        "inputs = keras.Input(shape=(17,))\n",
        "x = layers.Dense(3, activation=\"relu\", name=\"dense_1\")(inputs)\n",
        "x = layers.Dense(2, activation=\"relu\", name=\"dense_2\")(x)\n",
        "outputs = layers.Dense(6, activation='softmax', name=\"predictions\")(x)\n",
        "lasvegas_nnet = keras.Model(inputs=inputs, outputs=outputs)\n",
        "lasvegas_nnet.compile(\n",
        "  optimizer=keras.optimizers.Adam(learning_rate=0.005),\n",
        "  # Loss function to minimize\n",
        "  loss='categorical_crossentropy',\n",
        "  # List of metrics to monitor\n",
        "  metrics=['accuracy'],\n",
        ")"
      ],
      "execution_count": null,
      "outputs": []
    },
    {
      "cell_type": "code",
      "metadata": {
        "id": "YTOwptCBe6gN"
      },
      "source": [
        "history = lasvegas_nnet.fit(\n",
        "  X_train,\n",
        "  dummy_y_train,\n",
        "  batch_size=50,\n",
        "  epochs=1000\n",
        ")"
      ],
      "execution_count": null,
      "outputs": []
    },
    {
      "cell_type": "code",
      "metadata": {
        "id": "sOUJIm_GKm2Z"
      },
      "source": [
        "lasvegas_nnet_val_preds = lasvegas_nnet.predict(X_test)\n",
        "lasvegas_nnet_val_preds_class = np.argmax(lasvegas_nnet_val_preds, axis = 1)\n",
        "lasvegas_nnet_val_preds_class"
      ],
      "execution_count": null,
      "outputs": []
    },
    {
      "cell_type": "code",
      "metadata": {
        "id": "UgSAyc-fZu0j"
      },
      "source": [
        "y_test"
      ],
      "execution_count": null,
      "outputs": []
    },
    {
      "cell_type": "code",
      "metadata": {
        "id": "ZXgvrpfeOBKe"
      },
      "source": [
        "accuracy_score(y_test, lasvegas_nnet_val_preds_class)"
      ],
      "execution_count": null,
      "outputs": []
    },
    {
      "cell_type": "code",
      "metadata": {
        "id": "2boNKkhOOr4R"
      },
      "source": [
        "confusion_matrix(y_test, lasvegas_nnet_val_preds_class)"
      ],
      "execution_count": null,
      "outputs": []
    },
    {
      "cell_type": "code",
      "metadata": {
        "id": "JGNTebDhZn69"
      },
      "source": [
        "np.corrcoef(lasvegas_nnet_val_preds_class,y_test)[0,1] * np.corrcoef(lasvegas_nnet_val_preds_class,y_test)[0,1]"
      ],
      "execution_count": null,
      "outputs": []
    },
    {
      "cell_type": "code",
      "metadata": {
        "id": "LmVd6zvgWRpk"
      },
      "source": [
        "accuracy_score(y_test, lasvegas_nnet_reg_preds_clss)"
      ],
      "execution_count": null,
      "outputs": []
    }
  ]
}