{
  "nbformat": 4,
  "nbformat_minor": 0,
  "metadata": {
    "kernelspec": {
      "display_name": "Python 3",
      "language": "python",
      "name": "python3"
    },
    "language_info": {
      "codemirror_mode": {
        "name": "ipython",
        "version": 3
      },
      "file_extension": ".py",
      "mimetype": "text/x-python",
      "name": "python",
      "nbconvert_exporter": "python",
      "pygments_lexer": "ipython3",
      "version": "3.8.3"
    },
    "colab": {
      "name": "Module9_HousePriceExample.ipynb",
      "provenance": [],
      "include_colab_link": true
    }
  },
  "cells": [
    {
      "cell_type": "markdown",
      "metadata": {
        "id": "view-in-github",
        "colab_type": "text"
      },
      "source": [
        "<a href=\"https://colab.research.google.com/github/danielbauer1979/ML_656/blob/main/Module9_HousePriceExample.ipynb\" target=\"_parent\"><img src=\"https://colab.research.google.com/assets/colab-badge.svg\" alt=\"Open In Colab\"/></a>"
      ]
    },
    {
      "cell_type": "code",
      "metadata": {
        "id": "7vCC-SQb7VRR"
      },
      "source": [
        "import numpy as np \n",
        "import matplotlib.pyplot as plt  \n",
        "import pandas as pd \n",
        "import seaborn as sns\n",
        "import graphviz\n",
        "import pydot\n",
        "from io import StringIO  \n",
        "\n",
        "from sklearn.preprocessing import scale\n",
        "from sklearn.model_selection import train_test_split, cross_val_score\n",
        "from sklearn.tree import DecisionTreeRegressor, DecisionTreeClassifier, export_graphviz\n",
        "from sklearn.ensemble import BaggingClassifier, RandomForestClassifier,BaggingRegressor, RandomForestRegressor, GradientBoostingRegressor\n",
        "import sklearn.metrics as metrics\n",
        "\n",
        "import tensorflow as tf\n",
        "from tensorflow import keras\n",
        "from tensorflow.keras import layers"
      ],
      "execution_count": null,
      "outputs": []
    },
    {
      "cell_type": "markdown",
      "metadata": {
        "id": "tRIewfHHQt-u"
      },
      "source": [
        "# HOUSE PRICE EXAMPLE"
      ]
    },
    {
      "cell_type": "markdown",
      "metadata": {
        "id": "3oczDAE4wjt4"
      },
      "source": [
        "# Get data"
      ]
    },
    {
      "cell_type": "code",
      "metadata": {
        "id": "joqrQm2gSDdZ"
      },
      "source": [
        "!git clone https://github.com/danielbauer1979/ML_656.git"
      ],
      "execution_count": null,
      "outputs": []
    },
    {
      "cell_type": "code",
      "metadata": {
        "id": "jILOaSki7VRX"
      },
      "source": [
        "house = pd.read_csv('ML_656/HouseData.csv')\n",
        "house.head()"
      ],
      "execution_count": null,
      "outputs": []
    },
    {
      "cell_type": "markdown",
      "metadata": {
        "id": "KWBCjNh2woDd"
      },
      "source": [
        "## Prep Data"
      ]
    },
    {
      "cell_type": "code",
      "metadata": {
        "id": "abomVqWFlxVo"
      },
      "source": [
        "pd.set_option(\"display.max_rows\", None)\n",
        "house.isnull().sum(axis = 0)"
      ],
      "execution_count": null,
      "outputs": []
    },
    {
      "cell_type": "code",
      "metadata": {
        "id": "VuUNldN6nzFE"
      },
      "source": [
        "house = house.drop(columns=['Id','LotFrontage','Alley', 'BsmtQual', 'BsmtCond','BsmtExposure','BsmtFinType1','BsmtFinType2','FireplaceQu','GarageType','GarageYrBlt','GarageFinish','GarageQual','GarageCond','PoolQC','Fence','MiscFeature'])"
      ],
      "execution_count": null,
      "outputs": []
    },
    {
      "cell_type": "code",
      "metadata": {
        "id": "z6FzvzLRrYmx"
      },
      "source": [
        "house = house.dropna()\n",
        "house.info()"
      ],
      "execution_count": null,
      "outputs": []
    },
    {
      "cell_type": "code",
      "metadata": {
        "id": "wQ77WRKus_Xc"
      },
      "source": [
        "col_types = house.columns.to_series().groupby(house.dtypes).groups\n",
        "numerics = list(house.select_dtypes(include=['int64']).columns)\n",
        "factors = list(house.select_dtypes(include=['object']).columns)"
      ],
      "execution_count": null,
      "outputs": []
    },
    {
      "cell_type": "code",
      "metadata": {
        "id": "YSHiS4cbrBDD"
      },
      "source": [
        "house_numcols = house[numerics].drop(columns = ['SalePrice'])\n",
        "house_faccols = house[factors]\n",
        "dummies = pd.get_dummies(house_faccols, drop_first=True)\n",
        "house_numcols_sc_0 = scale(house_numcols)\n",
        "house_numcols_sc = pd.DataFrame(data=house_numcols_sc_0, columns = house_numcols.columns, index = dummies.index)\n",
        "house_sc = pd.concat([house_numcols_sc, dummies], axis = 1)\n",
        "house_sc = pd.concat([house_sc, house['SalePrice']], axis =1)\n",
        "house_sc = house_sc.rename(columns={\"SalePrice\":\"Y\"})\n",
        "house_sc.head()"
      ],
      "execution_count": null,
      "outputs": []
    },
    {
      "cell_type": "markdown",
      "metadata": {
        "id": "ALiq7uTFwvZ7"
      },
      "source": [
        "## Explore"
      ]
    },
    {
      "cell_type": "code",
      "metadata": {
        "id": "ahz5pTT-xodx"
      },
      "source": [
        "#From https://towardsdatascience.com/machine-learning-with-python-regression-complete-tutorial-47268e546cea\n",
        "x = \"Y\"\n",
        "fig, ax = plt.subplots(nrows=1, ncols=2,  sharex=False, sharey=False)\n",
        "fig.suptitle(x, fontsize=20)\n",
        "### distribution\n",
        "ax[0].title.set_text('distribution')\n",
        "variable = house_sc[x].fillna(house_sc[x].mean())\n",
        "breaks = np.quantile(variable, q=np.linspace(0, 1, 11))\n",
        "variable = variable[ (variable > breaks[0]) & (variable < \n",
        "                    breaks[10]) ]\n",
        "sns.distplot(variable, hist=True, kde=True, kde_kws={\"shade\": True}, ax=ax[0])\n",
        "des = house_sc[x].describe()\n",
        "ax[0].axvline(des[\"25%\"], ls='--')\n",
        "ax[0].axvline(des[\"mean\"], ls='--')\n",
        "ax[0].axvline(des[\"75%\"], ls='--')\n",
        "ax[0].grid(True)\n",
        "des = round(des, 2).apply(lambda x: str(x))\n",
        "box = '\\n'.join((\"min: \"+des[\"min\"], \"25%: \"+des[\"25%\"], \"mean: \"+des[\"mean\"], \"75%: \"+des[\"75%\"], \"max: \"+des[\"max\"]))\n",
        "ax[0].text(0.95, 0.95, box, transform=ax[0].transAxes, fontsize=10, va='top', ha=\"right\", bbox=dict(boxstyle='round', facecolor='white', alpha=1))\n",
        "### boxplot \n",
        "ax[1].title.set_text('outliers (log scale)')\n",
        "tmp_dtf = pd.DataFrame(house_sc[x])\n",
        "tmp_dtf[x] = np.log(tmp_dtf[x])\n",
        "tmp_dtf.boxplot(column=x, ax=ax[1])\n",
        "plt.show()"
      ],
      "execution_count": null,
      "outputs": []
    },
    {
      "cell_type": "code",
      "metadata": {
        "id": "55xSsRHJLUuu"
      },
      "source": [
        "np.random.seed(42)\n",
        "train, test = train_test_split(house_sc, test_size = 0.5)\n",
        "val, test = train_test_split(test, test_size = 0.5)\n",
        "X_train = train.drop(columns = ['Y']).values\n",
        "y_train = train['Y'].values\n",
        "X_val = val.drop(columns = ['Y']).values\n",
        "y_val = val['Y'].values\n",
        "X_test = test.drop(columns = ['Y']).values\n",
        "y_test = test['Y'].values\n",
        "X_train.shape"
      ],
      "execution_count": null,
      "outputs": []
    },
    {
      "cell_type": "markdown",
      "metadata": {
        "id": "9lcvdPSFP6Us"
      },
      "source": [
        "Random Forest"
      ]
    },
    {
      "cell_type": "code",
      "metadata": {
        "id": "Qrbc0IG2P9wB"
      },
      "source": [
        "house_rf = RandomForestRegressor(n_estimators=500, random_state=1, criterion=\"absolute_error\")\n",
        "house_rf.fit(X_train, y_train)"
      ],
      "execution_count": null,
      "outputs": []
    },
    {
      "cell_type": "code",
      "metadata": {
        "id": "ExauyByLHJds"
      },
      "source": [
        "house_rf_test_pred = house_rf.predict(X_test)"
      ],
      "execution_count": null,
      "outputs": []
    },
    {
      "cell_type": "code",
      "metadata": {
        "id": "zSwpyOQZ3i0C"
      },
      "source": [
        "## Kpi\n",
        "print(\"R2 (explained variance):\", round(metrics.r2_score(y_test, house_rf_test_pred), 2))\n",
        "print(\"Mean Absolute Perc Error (Σ(|y-pred|/y)/n):\", round(np.mean(np.abs((y_test-house_rf_test_pred)/house_rf_test_pred)), 2))\n",
        "print(\"Mean Absolute Error (Σ|y-pred|/n):\", \"{:,.0f}\".format(metrics.mean_absolute_error(y_test, house_rf_test_pred)))\n",
        "print(\"Root Mean Squared Error (sqrt(Σ(y-pred)^2/n)):\", \"{:,.0f}\".format(np.sqrt(metrics.mean_squared_error(y_test, house_rf_test_pred))))\n",
        "## residuals\n",
        "residuals = y_test - house_rf_val_pred\n",
        "max_error = max(residuals) if abs(max(residuals)) > abs(min(residuals)) else min(residuals)\n",
        "max_idx = list(residuals).index(max(residuals)) if abs(max(residuals)) > abs(min(residuals)) else list(residuals).index(min(residuals))\n",
        "max_true, max_pred = y_test[max_idx], house_rf_test_pred[max_idx]\n",
        "print(\"Max Error:\", \"{:,.0f}\".format(max_error))"
      ],
      "execution_count": null,
      "outputs": []
    },
    {
      "cell_type": "markdown",
      "metadata": {
        "id": "_SrwOVgNTluG"
      },
      "source": [
        "Boosting"
      ]
    },
    {
      "cell_type": "code",
      "metadata": {
        "id": "QQ2YSyicTonk"
      },
      "source": [
        "house_boost = GradientBoostingRegressor(n_estimators=750, learning_rate=0.075,random_state=1, criterion=\"absolute_error\")\n",
        "house_boost.fit(X_train, y_train)"
      ],
      "execution_count": null,
      "outputs": []
    },
    {
      "cell_type": "code",
      "metadata": {
        "id": "yoFfQxe6I0_G"
      },
      "source": [
        "house_boost_test_pred = house_boost.predict(X_test)"
      ],
      "execution_count": null,
      "outputs": []
    },
    {
      "cell_type": "code",
      "metadata": {
        "id": "LsjKdY607kan"
      },
      "source": [
        "## Kpi\n",
        "print(\"R2 (explained variance):\", round(metrics.r2_score(y_test, house_boost_test_pred), 2))\n",
        "print(\"Mean Absolute Perc Error (Σ(|y-pred|/y)/n):\", round(np.mean(np.abs((y_test-house_boost_test_pred)/house_boost_test_pred)), 2))\n",
        "print(\"Mean Absolute Error (Σ|y-pred|/n):\", \"{:,.0f}\".format(metrics.mean_absolute_error(y_test, house_boost_test_pred)))\n",
        "print(\"Root Mean Squared Error (sqrt(Σ(y-pred)^2/n)):\", \"{:,.0f}\".format(np.sqrt(metrics.mean_squared_error(y_test, house_boost_test_pred))))\n",
        "## residuals\n",
        "residuals = y_test - house_boost_test_pred\n",
        "max_error = max(residuals) if abs(max(residuals)) > abs(min(residuals)) else min(residuals)\n",
        "max_idx = list(residuals).index(max(residuals)) if abs(max(residuals)) > abs(min(residuals)) else list(residuals).index(min(residuals))\n",
        "max_true, max_pred = y_test[max_idx], house_boost_test_pred[max_idx]\n",
        "print(\"Max Error:\", \"{:,.0f}\".format(max_error))"
      ],
      "execution_count": null,
      "outputs": []
    }
  ]
}