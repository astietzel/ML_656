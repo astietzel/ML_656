{
  "nbformat": 4,
  "nbformat_minor": 0,
  "metadata": {
    "kernelspec": {
      "display_name": "Python 3",
      "language": "python",
      "name": "python3"
    },
    "language_info": {
      "codemirror_mode": {
        "name": "ipython",
        "version": 3
      },
      "file_extension": ".py",
      "mimetype": "text/x-python",
      "name": "python",
      "nbconvert_exporter": "python",
      "pygments_lexer": "ipython3",
      "version": "3.8.3"
    },
    "colab": {
      "provenance": [],
      "collapsed_sections": [],
      "include_colab_link": true
    }
  },
  "cells": [
    {
      "cell_type": "markdown",
      "metadata": {
        "id": "view-in-github",
        "colab_type": "text"
      },
      "source": [
        "<a href=\"https://colab.research.google.com/github/danielbauer1979/ML_656/blob/main/Module3_IntroductionToClassification.ipynb\" target=\"_parent\"><img src=\"https://colab.research.google.com/assets/colab-badge.svg\" alt=\"Open In Colab\"/></a>"
      ]
    },
    {
      "cell_type": "markdown",
      "source": [
        "# Introduction to Classification\n",
        "Dani Bauer, 2022\n",
        "\n",
        "In this tutorial, we introduce two ways to think about probabilistically modeling class data: (i) either as modeling the probability of belonging to a certain class $j$ conditionally on observing the features; or (ii) as modeling the probability of observing a certain combination of features conditional to belonging to class $j$.  "
      ],
      "metadata": {
        "id": "Fc-m__Y8s4Y3"
      }
    },
    {
      "cell_type": "markdown",
      "metadata": {
        "id": "cQkFLmYWqmN3"
      },
      "source": [
        "As always, let's start with importing the libraries:"
      ]
    },
    {
      "cell_type": "code",
      "metadata": {
        "id": "ANNbSksYqWS3"
      },
      "source": [
        "import numpy as np \n",
        "import matplotlib.pyplot as plt  \n",
        "import pandas as pd \n",
        "from sklearn.model_selection import train_test_split\n",
        "import seaborn as sns\n",
        "\n",
        "from sklearn.linear_model import LogisticRegression \n",
        "from sklearn.discriminant_analysis import LinearDiscriminantAnalysis\n",
        "from sklearn.discriminant_analysis import QuadraticDiscriminantAnalysis\n",
        "from sklearn.metrics import confusion_matrix, classification_report, precision_score, roc_curve, auc\n",
        "from sklearn import preprocessing\n",
        "from sklearn.preprocessing import scale"
      ],
      "execution_count": 1,
      "outputs": []
    },
    {
      "cell_type": "markdown",
      "source": [
        "## Two ways to think about class data\n",
        "\n",
        "There are two ways of thinking about class data: (i) the probability of belonging to a certain class is a function of explanatoy variables; and (ii) the explanatory variables are drawn from different distributions depending on the class.  Note that the first approach is the basis for generalized linear/additive models (GLM/GAM) for classification whereas the second way underlies the Naive Bayes classifier.\n",
        "\n",
        "### Review of Concepts I\n",
        "\n",
        "Assume we are given predictors $X_i$ and outcome variables $Y_i \\in \\{1,2,...,M\\}$.  Remember that we are trying to assess \n",
        "$$\n",
        "p_j(x_0)= \\mathbb{P}(Y=j|X=x_0).\n",
        "$$\n",
        "A sensible prediction is then the $j$ for given data $x_0$ such that $p_j(x_0)$ is the largest.  That's exactly the **Bayes classifier**.\n",
        "\n",
        "For instance, let's assume that $X$ is two-dimensional consisting of height and weight, and that we attempt to predict sex $Y$ -- say 1 for male and 0 for females.  Hence, $p(x)=p_1(x)$ is the probability for a male given height and weight, and the probability of being female is $p_0(x)=1-p(x).$\n",
        "\n",
        "One way is to guess a functional form for $p_j(x)$.  This is the idea behind **logistic regression**.  For instance, in our male female example we would have:\n",
        "$$\n",
        "\\text{Proability Male} = p(\\underbrace{\\text{height},\\text{weight}}_x)=\\frac{e^{\\beta_0+\\beta_1\\times\\text{height}+\\beta_2\\times\\text{weight}}}{1+e^{\\beta_0+\\beta_1\\times\\text{height}+\\beta_2\\times\\text{weight}}}.\n",
        "$$\n",
        "\n",
        "Generalized Additive Models (GAMs) works similarly but allows for more general (non-linear) functions in the exponential. \n",
        "\n",
        "### Simulating a Class Data Set via Logistic Regression Approach\n"
      ],
      "metadata": {
        "id": "sJMjNPSGtoGD"
      }
    },
    {
      "cell_type": "markdown",
      "source": [
        "1. Let us simulate the covariates by sampling from a multivariate Normal distribution with expected height 66 inches and expected weight 175 lbs, and corresponding standard deviation 7 inches and 25 lbs, respectively.  We assume the correlation is 50%. "
      ],
      "metadata": {
        "id": "-Nf0UBpyt4s7"
      }
    },
    {
      "cell_type": "code",
      "source": [
        "np.random.seed = 1\n",
        "sampsize = 100\n",
        "mean = [66,175]\n",
        "cov = [[7**2,0.5*7*25], [0.5*7*25, 25**2]]\n",
        "X = np.random.multivariate_normal(mean, cov, sampsize)"
      ],
      "metadata": {
        "id": "qb0aQbxJt-u2"
      },
      "execution_count": 2,
      "outputs": []
    },
    {
      "cell_type": "markdown",
      "source": [
        "2. Let us then assume that both height and weight are positively associated with being male.  More precisely, let's assume that the probability follows a logistic regression model with parameters $\\beta_1$ and $\\beta_2$ (which are just chosen arbitrarily).  The dependent variable ($Y$) then states whether the individual is male or not. "
      ],
      "metadata": {
        "id": "zxnOknwgt8ai"
      }
    },
    {
      "cell_type": "code",
      "metadata": {
        "id": "t_vLVUwYqWS5"
      },
      "source": [
        "beta_1 = 0.15\n",
        "beta_2 = 0.03\n",
        "probX = np.exp(beta_1 * (X[:,0] - 66) + beta_2 * (X[:,1] - 175))/(1+np.exp(beta_1 * (X[:,0] - 66) + beta_2 * (X[:,1] - 175)))\n",
        "ISMALE = (probX > np.random.uniform(0,1,sampsize))\n",
        "GenderDF1 = pd.DataFrame({'ISMALE':ISMALE,'HEIGHT': X[:,0], 'WEIGHT': X[:,1]})"
      ],
      "execution_count": 3,
      "outputs": []
    },
    {
      "cell_type": "markdown",
      "source": [
        "3. Let us take a look at the data as a function of height and weight."
      ],
      "metadata": {
        "id": "NmM7GnjguKb9"
      }
    },
    {
      "cell_type": "code",
      "metadata": {
        "colab": {
          "base_uri": "https://localhost:8080/",
          "height": 283
        },
        "id": "H1PByrBisBsv",
        "outputId": "0851b7d4-c71f-4ae8-c700-f5d77af82ef9"
      },
      "source": [
        "fig = plt.figure()\n",
        "ax = fig.add_subplot(111)\n",
        "# plot x,y data with c as the color vector, set the line width of the markers to 0\n",
        "ax.scatter(X[:,0], X[:,1], c= ISMALE)"
      ],
      "execution_count": 4,
      "outputs": [
        {
          "output_type": "execute_result",
          "data": {
            "text/plain": [
              "<matplotlib.collections.PathCollection at 0x7f23bda48ed0>"
            ]
          },
          "metadata": {},
          "execution_count": 4
        },
        {
          "output_type": "display_data",
          "data": {
            "text/plain": [
              "<Figure size 432x288 with 1 Axes>"
            ],
            "image/png": "[encoded data removed]"
          },
          "metadata": {
            "needs_background": "light"
          }
        }
      ]
    },
    {
      "cell_type": "markdown",
      "source": [
        "### Review of Concepts II\n",
        "\n",
        "An alternative approach is to rely on Bayes theorem to express $p_j(x)$ in terms of the probability of observing $x$ given class $j$:\n",
        "$$\n",
        "p_j(x_0)=\\frac{\\pi_j\\times f_j(x_0)}{\\sum_k \\pi_k\\times f_k(x_0)},\n",
        "$$\n",
        "where $\\pi_k$ are the (unconditional) proportions for the different classes.\n",
        "\n",
        "For instance, in our gender example, it is proximate to assume $\\pi_0=\\pi_1=50\\%,$ so that:\n",
        "$$\n",
        "p(x) = \\frac{f_1(x)}{f_0(x)+f_1(x)},\n",
        "$$\n",
        "where $f_1(x)$ is the probability (density) for a given combination $x$ of height and weight given that the individual is a male and $f_0(x)$ is the probability for a given combination $x$ of height and weight given that the individual is a female.\n",
        "\n",
        "In **Linear Discriminant Analysis (LDA)**, the assumption is that $f_j(x)$ is Normal with mean $\\mu_j$ (and with a covariance matrix independent of the class), and we can determine the class-specific mean $\\mu_j$ by calculating the sample average.  Given data $x_0$, we then choose the class $j_0$ that maximizes $p_j(x_0)$ among all classes $j.$  Naive Bayes works similar, but we allow for more general distributions -- with the caveat that the different feature components $x_{k}$ are assumed to be independent.\n",
        "\n",
        "### Simulating a Class Data Set via drawing the (conditional) covariates\n",
        "\n",
        "1. Let us consider simulating a dataset of males and females.  Here let's assume that we have 50 males and females (for a total sample size of 100), where we draw the height and weights for  males and females separately.  More precisely, we assume that males have expected height and weight of 72 inches and 190 lbs, respectively, whereas females have an expected height of 60 inches and an expected weight of 160 lbs.  We assume that the standard deviations are the same as in the previous example. \n"
      ],
      "metadata": {
        "id": "BycWA39ruSVR"
      }
    },
    {
      "cell_type": "code",
      "metadata": {
        "id": "hTL_LjxIqWS7"
      },
      "source": [
        "halfsampsize = 50\n",
        "mean_M = [72,190]\n",
        "mean_F = [60,160]\n",
        "cov = [[7**2,0.5*7*25], [0.5*7*25, 25**2]]\n",
        "X_M = np.random.multivariate_normal(mean_M, cov, halfsampsize)\n",
        "X_F = np.random.multivariate_normal(mean_F, cov, halfsampsize)\n",
        "X = np.concatenate((X_M, X_F), axis=0)\n",
        "ISMALE = np.concatenate((np.ones(halfsampsize,dtype=bool), np.zeros(halfsampsize,dtype=bool)))\n",
        "GenderDF2 = pd.DataFrame({'ISMALE':ISMALE,'HEIGHT': X[:,0], 'WEIGHT': X[:,1]})"
      ],
      "execution_count": 5,
      "outputs": []
    },
    {
      "cell_type": "markdown",
      "source": [
        "2. Let us take a look at the data as a function of height and weight."
      ],
      "metadata": {
        "id": "Jz35k4r9uc2a"
      }
    },
    {
      "cell_type": "code",
      "metadata": {
        "colab": {
          "base_uri": "https://localhost:8080/",
          "height": 284
        },
        "id": "yzc_fhvHM9Dl",
        "outputId": "eeecd122-5ed0-4f51-8ca0-8624e890aba1"
      },
      "source": [
        "fig = plt.figure()\n",
        "ax = fig.add_subplot(111)\n",
        "# plot x,y data with c as the color vector, set the line width of the markers to 0\n",
        "ax.scatter(X[:,0], X[:,1], c= ISMALE)"
      ],
      "execution_count": 6,
      "outputs": [
        {
          "output_type": "execute_result",
          "data": {
            "text/plain": [
              "<matplotlib.collections.PathCollection at 0x7f23bd4825d0>"
            ]
          },
          "metadata": {},
          "execution_count": 6
        },
        {
          "output_type": "display_data",
          "data": {
            "text/plain": [
              "<Figure size 432x288 with 1 Axes>"
            ],
            "image/png": "[encoded data removed]"
          },
          "metadata": {
            "needs_background": "light"
          }
        }
      ]
    },
    {
      "cell_type": "markdown",
      "metadata": {
        "id": "QyVEnTxmM8pk"
      },
      "source": [
        "So the two data sets look similar.  "
      ]
    },
    {
      "cell_type": "markdown",
      "source": [
        "**Think before executing**:\n",
        "\n",
        "* If we were to run logistic regression and LDA on the two datasets, which method do you expect to perform better on the two datasets?  \n",
        "\n",
        "* Try it, i.e. compare logistic regression and LDA based on the simulated data sets.  "
      ],
      "metadata": {
        "id": "RNkuE6dhuozw"
      }
    },
    {
      "cell_type": "code",
      "metadata": {
        "id": "egW2HwYuqWS9"
      },
      "source": [
        "Train, Test = train_test_split(GenderDF1, test_size=0.5, random_state=1)"
      ],
      "execution_count": 7,
      "outputs": []
    },
    {
      "cell_type": "code",
      "metadata": {
        "colab": {
          "base_uri": "https://localhost:8080/"
        },
        "id": "9trdvwXdtC5D",
        "outputId": "ee918f4e-fcb6-458a-c983-7a0582144026"
      },
      "source": [
        "logistic_model1 = LogisticRegression(fit_intercept=True).fit(Train[['HEIGHT','WEIGHT']],Train['ISMALE'])\n",
        "print(logistic_model1.intercept_)\n",
        "print(logistic_model1.coef_)"
      ],
      "execution_count": 8,
      "outputs": [
        {
          "output_type": "stream",
          "name": "stdout",
          "text": [
            "[-13.50613417]\n",
            "[[0.11621914 0.03405165]]\n"
          ]
        }
      ]
    },
    {
      "cell_type": "code",
      "metadata": {
        "colab": {
          "base_uri": "https://localhost:8080/"
        },
        "id": "yB_OfiSrK_fW",
        "outputId": "cfea84b5-e1c5-4cc2-f661-1e2945a4900f"
      },
      "source": [
        "logistic_pred_1 = logistic_model1.predict(Test[['HEIGHT','WEIGHT']])\n",
        "confusion_matrix(Test['ISMALE'],logistic_pred_1)"
      ],
      "execution_count": 9,
      "outputs": [
        {
          "output_type": "execute_result",
          "data": {
            "text/plain": [
              "array([[16,  9],\n",
              "       [ 4, 21]])"
            ]
          },
          "metadata": {},
          "execution_count": 9
        }
      ]
    },
    {
      "cell_type": "code",
      "metadata": {
        "id": "anpFXqYrMU6x",
        "colab": {
          "base_uri": "https://localhost:8080/"
        },
        "outputId": "77f56df2-c49a-43d2-e31e-a7880cf77fb3"
      },
      "source": [
        "precision_score(Test['ISMALE'],logistic_pred_1)"
      ],
      "execution_count": 10,
      "outputs": [
        {
          "output_type": "execute_result",
          "data": {
            "text/plain": [
              "0.7"
            ]
          },
          "metadata": {},
          "execution_count": 10
        }
      ]
    },
    {
      "cell_type": "code",
      "metadata": {
        "id": "SlqstGa1qWS_"
      },
      "source": [
        "lda_model_1 = LinearDiscriminantAnalysis()\n",
        "lda_model_1.fit(Train[['HEIGHT','WEIGHT']],Train['ISMALE'])\n",
        "lda_pred_1 = lda_model_1.predict(Test[['HEIGHT','WEIGHT']])\n",
        "confusion_matrix(Test['ISMALE'],lda_pred_1)"
      ],
      "execution_count": null,
      "outputs": []
    },
    {
      "cell_type": "code",
      "metadata": {
        "colab": {
          "base_uri": "https://localhost:8080/"
        },
        "id": "DnVUjtzLqWTA",
        "outputId": "5ac0eb35-c6a1-4e01-c4ce-b8ca3bac474c"
      },
      "source": [
        "Train, Test = train_test_split(GenderDF2, test_size=0.5, random_state=1)\n",
        "logistic_model2 = LogisticRegression(fit_intercept=True).fit(Train[['HEIGHT','WEIGHT']],Train['ISMALE'])\n",
        "logistic_pred_2 = logistic_model1.predict(Test[['HEIGHT','WEIGHT']])\n",
        "confusion_matrix(Test['ISMALE'],logistic_pred_2)"
      ],
      "execution_count": 13,
      "outputs": [
        {
          "output_type": "execute_result",
          "data": {
            "text/plain": [
              "array([[20,  8],\n",
              "       [ 4, 18]])"
            ]
          },
          "metadata": {},
          "execution_count": 13
        }
      ]
    },
    {
      "cell_type": "code",
      "metadata": {
        "colab": {
          "base_uri": "https://localhost:8080/"
        },
        "id": "qmpzgxlxqWTA",
        "outputId": "881a6b68-53e7-47a2-d566-1a0b01cc7468"
      },
      "source": [
        "lda_model_2 = LinearDiscriminantAnalysis()\n",
        "lda_model_2.fit(Train[['HEIGHT','WEIGHT']],Train['ISMALE'])\n",
        "lda_pred_2 = lda_model_2.predict(Test[['HEIGHT','WEIGHT']])\n",
        "confusion_matrix(Test['ISMALE'],lda_pred_2)"
      ],
      "execution_count": 14,
      "outputs": [
        {
          "output_type": "execute_result",
          "data": {
            "text/plain": [
              "array([[21,  7],\n",
              "       [ 3, 19]])"
            ]
          },
          "metadata": {},
          "execution_count": 14
        }
      ]
    },
    {
      "cell_type": "markdown",
      "source": [
        "Generally, we expect the model to fit better that better describes the underlying data generating process, so logistic regression for the first and LDA for the second data set. Whether that comes out depends on randomness! Check by modifying the random seed!\n"
      ],
      "metadata": {
        "id": "FMqjNsO8vCqM"
      }
    },
    {
      "cell_type": "markdown",
      "source": [
        "## Application"
      ],
      "metadata": {
        "id": "S9hq-FQmvde0"
      }
    },
    {
      "cell_type": "markdown",
      "source": [
        "Let's look at the real-world performance in a dataset from a [study by Caroline Davis](https://www.sciencedirect.com/science/article/pii/019566639090096Q) that has data on the height and weight of 200 individuals."
      ],
      "metadata": {
        "id": "O6HjArdXvU7c"
      }
    },
    {
      "cell_type": "code",
      "metadata": {
        "colab": {
          "base_uri": "https://localhost:8080/"
        },
        "id": "r49dAbuLNki0",
        "outputId": "fa45b85a-8e53-4b7f-f079-fb93b3658f7a"
      },
      "source": [
        "!git clone https://github.com/danielbauer1979/ML_656.git"
      ],
      "execution_count": 15,
      "outputs": [
        {
          "output_type": "stream",
          "name": "stdout",
          "text": [
            "Cloning into 'ML_656'...\n",
            "remote: Enumerating objects: 147, done.\u001b[K\n",
            "remote: Counting objects: 100% (30/30), done.\u001b[K\n",
            "remote: Compressing objects: 100% (30/30), done.\u001b[K\n",
            "remote: Total 147 (delta 15), reused 0 (delta 0), pack-reused 117\u001b[K\n",
            "Receiving objects: 100% (147/147), 23.32 MiB | 15.36 MiB/s, done.\n",
            "Resolving deltas: 100% (65/65), done.\n",
            "Checking out files: 100% (29/29), done.\n"
          ]
        }
      ]
    },
    {
      "cell_type": "code",
      "metadata": {
        "colab": {
          "base_uri": "https://localhost:8080/",
          "height": 206
        },
        "id": "bT2dwPKCNvzF",
        "outputId": "1caf286d-21bc-49da-de57-662300dffffb"
      },
      "source": [
        "hw_data = pd.read_csv('ML_656/Davis.csv')\n",
        "hw_data.head()"
      ],
      "execution_count": 16,
      "outputs": [
        {
          "output_type": "execute_result",
          "data": {
            "text/plain": [
              "   Unnamed: 0 sex  weight  height  reportedWeight  reportedHeight\n",
              "0           1   M      77     182            77.0           180.0\n",
              "1           2   F      58     161            51.0           159.0\n",
              "2           3   F      53     161            54.0           158.0\n",
              "3           4   M      68     177            70.0           175.0\n",
              "4           5   F      59     157            59.0           155.0"
            ],
            "text/html": [
              "\n",
              "  <div id=\"df-712cabd6-15f6-4d52-9c5f-907e0615014f\">\n",
              "    <div class=\"colab-df-container\">\n",
              "      <div>\n",
              "<style scoped>\n",
              "    .dataframe tbody tr th:only-of-type {\n",
              "        vertical-align: middle;\n",
              "    }\n",
              "\n",
              "    .dataframe tbody tr th {\n",
              "        vertical-align: top;\n",
              "    }\n",
              "\n",
              "    .dataframe thead th {\n",
              "        text-align: right;\n",
              "    }\n",
              "</style>\n",
              "<table border=\"1\" class=\"dataframe\">\n",
              "  <thead>\n",
              "    <tr style=\"text-align: right;\">\n",
              "      <th></th>\n",
              "      <th>Unnamed: 0</th>\n",
              "      <th>sex</th>\n",
              "      <th>weight</th>\n",
              "      <th>height</th>\n",
              "      <th>reportedWeight</th>\n",
              "      <th>reportedHeight</th>\n",
              "    </tr>\n",
              "  </thead>\n",
              "  <tbody>\n",
              "    <tr>\n",
              "      <th>0</th>\n",
              "      <td>1</td>\n",
              "      <td>M</td>\n",
              "      <td>77</td>\n",
              "      <td>182</td>\n",
              "      <td>77.0</td>\n",
              "      <td>180.0</td>\n",
              "    </tr>\n",
              "    <tr>\n",
              "      <th>1</th>\n",
              "      <td>2</td>\n",
              "      <td>F</td>\n",
              "      <td>58</td>\n",
              "      <td>161</td>\n",
              "      <td>51.0</td>\n",
              "      <td>159.0</td>\n",
              "    </tr>\n",
              "    <tr>\n",
              "      <th>2</th>\n",
              "      <td>3</td>\n",
              "      <td>F</td>\n",
              "      <td>53</td>\n",
              "      <td>161</td>\n",
              "      <td>54.0</td>\n",
              "      <td>158.0</td>\n",
              "    </tr>\n",
              "    <tr>\n",
              "      <th>3</th>\n",
              "      <td>4</td>\n",
              "      <td>M</td>\n",
              "      <td>68</td>\n",
              "      <td>177</td>\n",
              "      <td>70.0</td>\n",
              "      <td>175.0</td>\n",
              "    </tr>\n",
              "    <tr>\n",
              "      <th>4</th>\n",
              "      <td>5</td>\n",
              "      <td>F</td>\n",
              "      <td>59</td>\n",
              "      <td>157</td>\n",
              "      <td>59.0</td>\n",
              "      <td>155.0</td>\n",
              "    </tr>\n",
              "  </tbody>\n",
              "</table>\n",
              "</div>\n",
              "      <button class=\"colab-df-convert\" onclick=\"convertToInteractive('df-712cabd6-15f6-4d52-9c5f-907e0615014f')\"\n",
              "              title=\"Convert this dataframe to an interactive table.\"\n",
              "              style=\"display:none;\">\n",
              "        \n",
              "  <svg xmlns=\"http://www.w3.org/2000/svg\" height=\"24px\"viewBox=\"0 0 24 24\"\n",
              "       width=\"24px\">\n",
              "    <path d=\"M0 0h24v24H0V0z\" fill=\"none\"/>\n",
              "    <path d=\"M18.56 5.44l.94 2.06.94-2.06 2.06-.94-2.06-.94-.94-2.06-.94 2.06-2.06.94zm-11 1L8.5 8.5l.94-2.06 2.06-.94-2.06-.94L8.5 2.5l-.94 2.06-2.06.94zm10 10l.94 2.06.94-2.06 2.06-.94-2.06-.94-.94-2.06-.94 2.06-2.06.94z\"/><path d=\"M17.41 7.96l-1.37-1.37c-.4-.4-.92-.59-1.43-.59-.52 0-1.04.2-1.43.59L10.3 9.45l-7.72 7.72c-.78.78-.78 2.05 0 2.83L4 21.41c.39.39.9.59 1.41.59.51 0 1.02-.2 1.41-.59l7.78-7.78 2.81-2.81c.8-.78.8-2.07 0-2.86zM5.41 20L4 18.59l7.72-7.72 1.47 1.35L5.41 20z\"/>\n",
              "  </svg>\n",
              "      </button>\n",
              "      \n",
              "  <style>\n",
              "    .colab-df-container {\n",
              "      display:flex;\n",
              "      flex-wrap:wrap;\n",
              "      gap: 12px;\n",
              "    }\n",
              "\n",
              "    .colab-df-convert {\n",
              "      background-color: #E8F0FE;\n",
              "      border: none;\n",
              "      border-radius: 50%;\n",
              "      cursor: pointer;\n",
              "      display: none;\n",
              "      fill: #1967D2;\n",
              "      height: 32px;\n",
              "      padding: 0 0 0 0;\n",
              "      width: 32px;\n",
              "    }\n",
              "\n",
              "    .colab-df-convert:hover {\n",
              "      background-color: #E2EBFA;\n",
              "      box-shadow: 0px 1px 2px rgba(60, 64, 67, 0.3), 0px 1px 3px 1px rgba(60, 64, 67, 0.15);\n",
              "      fill: #174EA6;\n",
              "    }\n",
              "\n",
              "    [theme=dark] .colab-df-convert {\n",
              "      background-color: #3B4455;\n",
              "      fill: #D2E3FC;\n",
              "    }\n",
              "\n",
              "    [theme=dark] .colab-df-convert:hover {\n",
              "      background-color: #434B5C;\n",
              "      box-shadow: 0px 1px 3px 1px rgba(0, 0, 0, 0.15);\n",
              "      filter: drop-shadow(0px 1px 2px rgba(0, 0, 0, 0.3));\n",
              "      fill: #FFFFFF;\n",
              "    }\n",
              "  </style>\n",
              "\n",
              "      <script>\n",
              "        const buttonEl =\n",
              "          document.querySelector('#df-712cabd6-15f6-4d52-9c5f-907e0615014f button.colab-df-convert');\n",
              "        buttonEl.style.display =\n",
              "          google.colab.kernel.accessAllowed ? 'block' : 'none';\n",
              "\n",
              "        async function convertToInteractive(key) {\n",
              "          const element = document.querySelector('#df-712cabd6-15f6-4d52-9c5f-907e0615014f');\n",
              "          const dataTable =\n",
              "            await google.colab.kernel.invokeFunction('convertToInteractive',\n",
              "                                                     [key], {});\n",
              "          if (!dataTable) return;\n",
              "\n",
              "          const docLinkHtml = 'Like what you see? Visit the ' +\n",
              "            '<a target=\"_blank\" href=https://colab.research.google.com/notebooks/data_table.ipynb>data table notebook</a>'\n",
              "            + ' to learn more about interactive tables.';\n",
              "          element.innerHTML = '';\n",
              "          dataTable['output_type'] = 'display_data';\n",
              "          await google.colab.output.renderOutput(dataTable, element);\n",
              "          const docLink = document.createElement('div');\n",
              "          docLink.innerHTML = docLinkHtml;\n",
              "          element.appendChild(docLink);\n",
              "        }\n",
              "      </script>\n",
              "    </div>\n",
              "  </div>\n",
              "  "
            ]
          },
          "metadata": {},
          "execution_count": 16
        }
      ]
    },
    {
      "cell_type": "code",
      "metadata": {
        "colab": {
          "base_uri": "https://localhost:8080/",
          "height": 206
        },
        "id": "l073F2eMOCBC",
        "outputId": "c6bb1a3d-1744-435a-d757-afd0dfb45151"
      },
      "source": [
        "hw_data['sex'] = pd.get_dummies(hw_data['sex'],drop_first=True)\n",
        "hw_data.head()"
      ],
      "execution_count": 17,
      "outputs": [
        {
          "output_type": "execute_result",
          "data": {
            "text/plain": [
              "   Unnamed: 0  sex  weight  height  reportedWeight  reportedHeight\n",
              "0           1    1      77     182            77.0           180.0\n",
              "1           2    0      58     161            51.0           159.0\n",
              "2           3    0      53     161            54.0           158.0\n",
              "3           4    1      68     177            70.0           175.0\n",
              "4           5    0      59     157            59.0           155.0"
            ],
            "text/html": [
              "\n",
              "  <div id=\"df-148366a7-4cb7-4c5c-9d9c-f85eb2368a0a\">\n",
              "    <div class=\"colab-df-container\">\n",
              "      <div>\n",
              "<style scoped>\n",
              "    .dataframe tbody tr th:only-of-type {\n",
              "        vertical-align: middle;\n",
              "    }\n",
              "\n",
              "    .dataframe tbody tr th {\n",
              "        vertical-align: top;\n",
              "    }\n",
              "\n",
              "    .dataframe thead th {\n",
              "        text-align: right;\n",
              "    }\n",
              "</style>\n",
              "<table border=\"1\" class=\"dataframe\">\n",
              "  <thead>\n",
              "    <tr style=\"text-align: right;\">\n",
              "      <th></th>\n",
              "      <th>Unnamed: 0</th>\n",
              "      <th>sex</th>\n",
              "      <th>weight</th>\n",
              "      <th>height</th>\n",
              "      <th>reportedWeight</th>\n",
              "      <th>reportedHeight</th>\n",
              "    </tr>\n",
              "  </thead>\n",
              "  <tbody>\n",
              "    <tr>\n",
              "      <th>0</th>\n",
              "      <td>1</td>\n",
              "      <td>1</td>\n",
              "      <td>77</td>\n",
              "      <td>182</td>\n",
              "      <td>77.0</td>\n",
              "      <td>180.0</td>\n",
              "    </tr>\n",
              "    <tr>\n",
              "      <th>1</th>\n",
              "      <td>2</td>\n",
              "      <td>0</td>\n",
              "      <td>58</td>\n",
              "      <td>161</td>\n",
              "      <td>51.0</td>\n",
              "      <td>159.0</td>\n",
              "    </tr>\n",
              "    <tr>\n",
              "      <th>2</th>\n",
              "      <td>3</td>\n",
              "      <td>0</td>\n",
              "      <td>53</td>\n",
              "      <td>161</td>\n",
              "      <td>54.0</td>\n",
              "      <td>158.0</td>\n",
              "    </tr>\n",
              "    <tr>\n",
              "      <th>3</th>\n",
              "      <td>4</td>\n",
              "      <td>1</td>\n",
              "      <td>68</td>\n",
              "      <td>177</td>\n",
              "      <td>70.0</td>\n",
              "      <td>175.0</td>\n",
              "    </tr>\n",
              "    <tr>\n",
              "      <th>4</th>\n",
              "      <td>5</td>\n",
              "      <td>0</td>\n",
              "      <td>59</td>\n",
              "      <td>157</td>\n",
              "      <td>59.0</td>\n",
              "      <td>155.0</td>\n",
              "    </tr>\n",
              "  </tbody>\n",
              "</table>\n",
              "</div>\n",
              "      <button class=\"colab-df-convert\" onclick=\"convertToInteractive('df-148366a7-4cb7-4c5c-9d9c-f85eb2368a0a')\"\n",
              "              title=\"Convert this dataframe to an interactive table.\"\n",
              "              style=\"display:none;\">\n",
              "        \n",
              "  <svg xmlns=\"http://www.w3.org/2000/svg\" height=\"24px\"viewBox=\"0 0 24 24\"\n",
              "       width=\"24px\">\n",
              "    <path d=\"M0 0h24v24H0V0z\" fill=\"none\"/>\n",
              "    <path d=\"M18.56 5.44l.94 2.06.94-2.06 2.06-.94-2.06-.94-.94-2.06-.94 2.06-2.06.94zm-11 1L8.5 8.5l.94-2.06 2.06-.94-2.06-.94L8.5 2.5l-.94 2.06-2.06.94zm10 10l.94 2.06.94-2.06 2.06-.94-2.06-.94-.94-2.06-.94 2.06-2.06.94z\"/><path d=\"M17.41 7.96l-1.37-1.37c-.4-.4-.92-.59-1.43-.59-.52 0-1.04.2-1.43.59L10.3 9.45l-7.72 7.72c-.78.78-.78 2.05 0 2.83L4 21.41c.39.39.9.59 1.41.59.51 0 1.02-.2 1.41-.59l7.78-7.78 2.81-2.81c.8-.78.8-2.07 0-2.86zM5.41 20L4 18.59l7.72-7.72 1.47 1.35L5.41 20z\"/>\n",
              "  </svg>\n",
              "      </button>\n",
              "      \n",
              "  <style>\n",
              "    .colab-df-container {\n",
              "      display:flex;\n",
              "      flex-wrap:wrap;\n",
              "      gap: 12px;\n",
              "    }\n",
              "\n",
              "    .colab-df-convert {\n",
              "      background-color: #E8F0FE;\n",
              "      border: none;\n",
              "      border-radius: 50%;\n",
              "      cursor: pointer;\n",
              "      display: none;\n",
              "      fill: #1967D2;\n",
              "      height: 32px;\n",
              "      padding: 0 0 0 0;\n",
              "      width: 32px;\n",
              "    }\n",
              "\n",
              "    .colab-df-convert:hover {\n",
              "      background-color: #E2EBFA;\n",
              "      box-shadow: 0px 1px 2px rgba(60, 64, 67, 0.3), 0px 1px 3px 1px rgba(60, 64, 67, 0.15);\n",
              "      fill: #174EA6;\n",
              "    }\n",
              "\n",
              "    [theme=dark] .colab-df-convert {\n",
              "      background-color: #3B4455;\n",
              "      fill: #D2E3FC;\n",
              "    }\n",
              "\n",
              "    [theme=dark] .colab-df-convert:hover {\n",
              "      background-color: #434B5C;\n",
              "      box-shadow: 0px 1px 3px 1px rgba(0, 0, 0, 0.15);\n",
              "      filter: drop-shadow(0px 1px 2px rgba(0, 0, 0, 0.3));\n",
              "      fill: #FFFFFF;\n",
              "    }\n",
              "  </style>\n",
              "\n",
              "      <script>\n",
              "        const buttonEl =\n",
              "          document.querySelector('#df-148366a7-4cb7-4c5c-9d9c-f85eb2368a0a button.colab-df-convert');\n",
              "        buttonEl.style.display =\n",
              "          google.colab.kernel.accessAllowed ? 'block' : 'none';\n",
              "\n",
              "        async function convertToInteractive(key) {\n",
              "          const element = document.querySelector('#df-148366a7-4cb7-4c5c-9d9c-f85eb2368a0a');\n",
              "          const dataTable =\n",
              "            await google.colab.kernel.invokeFunction('convertToInteractive',\n",
              "                                                     [key], {});\n",
              "          if (!dataTable) return;\n",
              "\n",
              "          const docLinkHtml = 'Like what you see? Visit the ' +\n",
              "            '<a target=\"_blank\" href=https://colab.research.google.com/notebooks/data_table.ipynb>data table notebook</a>'\n",
              "            + ' to learn more about interactive tables.';\n",
              "          element.innerHTML = '';\n",
              "          dataTable['output_type'] = 'display_data';\n",
              "          await google.colab.output.renderOutput(dataTable, element);\n",
              "          const docLink = document.createElement('div');\n",
              "          docLink.innerHTML = docLinkHtml;\n",
              "          element.appendChild(docLink);\n",
              "        }\n",
              "      </script>\n",
              "    </div>\n",
              "  </div>\n",
              "  "
            ]
          },
          "metadata": {},
          "execution_count": 17
        }
      ]
    },
    {
      "cell_type": "code",
      "metadata": {
        "colab": {
          "base_uri": "https://localhost:8080/",
          "height": 283
        },
        "id": "6F3aCUWYJqYf",
        "outputId": "14bf51cc-d683-4074-de31-bf3450b1c9aa"
      },
      "source": [
        "fig = plt.figure()\n",
        "ax = fig.add_subplot(111)\n",
        "# plot x,y data with c as the color vector, set the line width of the markers to 0\n",
        "ax.scatter(hw_data['height'], hw_data['weight'], c= hw_data['sex'])"
      ],
      "execution_count": 18,
      "outputs": [
        {
          "output_type": "execute_result",
          "data": {
            "text/plain": [
              "<matplotlib.collections.PathCollection at 0x7f23bcad3150>"
            ]
          },
          "metadata": {},
          "execution_count": 18
        },
        {
          "output_type": "display_data",
          "data": {
            "text/plain": [
              "<Figure size 432x288 with 1 Axes>"
            ],
            "image/png": "[encoded data removed]"
          },
          "metadata": {
            "needs_background": "light"
          }
        }
      ]
    },
    {
      "cell_type": "code",
      "metadata": {
        "colab": {
          "base_uri": "https://localhost:8080/"
        },
        "id": "WsMYtSm5Ok80",
        "outputId": "58a9b20d-1989-4bf7-9341-29c90d76b4f3"
      },
      "source": [
        "Train, Test = train_test_split(hw_data, test_size=0.5, random_state=1)\n",
        "logistic_model3 = LogisticRegression(fit_intercept=True).fit(Train[['height','weight']],Train['sex'])\n",
        "logistic_pred_3 = logistic_model3.predict(Test[['height','weight']])\n",
        "confusion_matrix(Test['sex'],logistic_pred_3)"
      ],
      "execution_count": 19,
      "outputs": [
        {
          "output_type": "execute_result",
          "data": {
            "text/plain": [
              "array([[55,  5],\n",
              "       [ 5, 35]])"
            ]
          },
          "metadata": {},
          "execution_count": 19
        }
      ]
    },
    {
      "cell_type": "code",
      "metadata": {
        "colab": {
          "base_uri": "https://localhost:8080/"
        },
        "id": "q1JYJhM6HvtG",
        "outputId": "907b2bac-e103-4109-a955-0e2fa44629fb"
      },
      "source": [
        "lda_model_3 = LinearDiscriminantAnalysis()\n",
        "lda_model_3.fit(Train[['height','weight']],Train['sex'])\n",
        "lda_pred_3 = lda_model_3.predict(Test[['height','weight']])\n",
        "confusion_matrix(Test['sex'],lda_pred_3)"
      ],
      "execution_count": 20,
      "outputs": [
        {
          "output_type": "execute_result",
          "data": {
            "text/plain": [
              "array([[57,  3],\n",
              "       [ 5, 35]])"
            ]
          },
          "metadata": {},
          "execution_count": 20
        }
      ]
    },
    {
      "cell_type": "markdown",
      "source": [
        "So the performance is quite similar, which is no surprise given the similarity."
      ],
      "metadata": {
        "id": "4w9z4LLlvlnq"
      }
    }
  ]
}