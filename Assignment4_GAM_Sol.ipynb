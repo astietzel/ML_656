{
  "nbformat": 4,
  "nbformat_minor": 0,
  "metadata": {
    "kernelspec": {
      "display_name": "Python 3",
      "language": "python",
      "name": "python3"
    },
    "language_info": {
      "codemirror_mode": {
        "name": "ipython",
        "version": 3
      },
      "file_extension": ".py",
      "mimetype": "text/x-python",
      "name": "python",
      "nbconvert_exporter": "python",
      "pygments_lexer": "ipython3",
      "version": "3.8.3"
    },
    "colab": {
      "provenance": [],
      "collapsed_sections": [],
      "include_colab_link": true
    }
  },
  "cells": [
    {
      "cell_type": "markdown",
      "metadata": {
        "id": "view-in-github",
        "colab_type": "text"
      },
      "source": [
        "<a href=\"https://colab.research.google.com/github/danielbauer1979/ML_656/blob/main/Assignment4_GAM_Sol.ipynb\" target=\"_parent\"><img src=\"https://colab.research.google.com/assets/colab-badge.svg\" alt=\"Open In Colab\"/></a>"
      ]
    },
    {
      "cell_type": "markdown",
      "source": [
        "##Assignment 4 Solution"
      ],
      "metadata": {
        "id": "ylb2mpp1280B"
      }
    },
    {
      "cell_type": "markdown",
      "source": [
        "Install pygam to run GAMs in Python"
      ],
      "metadata": {
        "id": "aF-rd3Wt3F4U"
      }
    },
    {
      "cell_type": "code",
      "metadata": {
        "id": "kflGqKyLEMn9"
      },
      "source": [
        "!pip install pygam"
      ],
      "execution_count": null,
      "outputs": []
    },
    {
      "cell_type": "code",
      "metadata": {
        "id": "iEKhqhMy7teM"
      },
      "source": [
        "import numpy as np \n",
        "import matplotlib.pyplot as plt  \n",
        "import pandas as pd \n",
        "from pygam import LinearGAM, GAM, LogisticGAM, s, f, l"
      ],
      "execution_count": null,
      "outputs": []
    },
    {
      "cell_type": "code",
      "metadata": {
        "id": "XQexJHeYDzvW"
      },
      "source": [
        "!git clone https://github.com/danielbauer1979/ML_656.git"
      ],
      "execution_count": null,
      "outputs": []
    },
    {
      "cell_type": "code",
      "metadata": {
        "id": "LZv1_LPG7teO"
      },
      "source": [
        "mydata = pd.read_csv('ML_656/Wage.csv', index_col=0)"
      ],
      "execution_count": null,
      "outputs": []
    },
    {
      "cell_type": "code",
      "metadata": {
        "id": "dPKZLS2Y7teO"
      },
      "source": [
        "# Generalized Additive Models\n",
        "# Python requires mannually dummifying categorical variables for this algorithm.\n",
        "X_ = mydata[['year','age']]\n",
        "dummies = pd.get_dummies(mydata['education'], drop_first=True)\n",
        "X = pd.concat([X_, dummies], axis = 1)\n",
        "y = mydata['wage']"
      ],
      "execution_count": null,
      "outputs": []
    },
    {
      "cell_type": "code",
      "metadata": {
        "id": "ruW3F19y7teP"
      },
      "source": [
        "# Specifying treatment of the variables (spline, factor, linear, etc)\n",
        "gam = LinearGAM(s(0,n_splines=6)+s(1,n_splines=7)+f(2)+f(3)+f(4)+f(5)).fit(X, y)\n",
        "gam.summary()"
      ],
      "execution_count": null,
      "outputs": []
    },
    {
      "cell_type": "code",
      "metadata": {
        "id": "n1qsyeoK7teQ"
      },
      "source": [
        "# Remember we dummified the \"education\" variable into four indicators\n",
        "plt.rcParams['figure.figsize'] = (28, 8)\n",
        "fig, axs = plt.subplots(1, 6)\n",
        "titles = list(X.columns)\n",
        "for i, ax in enumerate(axs):\n",
        "    XX = gam.generate_X_grid(term=i)\n",
        "    ax.plot(XX[:, i], gam.partial_dependence(term=i, X=XX))\n",
        "    ax.plot(XX[:, i], gam.partial_dependence(term=i, X=XX, width=.95)[1], c='k', ls='--')\n",
        "plt.show()"
      ],
      "execution_count": null,
      "outputs": []
    },
    {
      "cell_type": "code",
      "metadata": {
        "id": "o0XFzEKz7teR"
      },
      "source": [
        "preds = gam.predict(X)"
      ],
      "execution_count": null,
      "outputs": []
    },
    {
      "cell_type": "code",
      "metadata": {
        "id": "Fyo9TVD77teR"
      },
      "source": [
        "# Let's also do a logistic GAM"
      ],
      "execution_count": null,
      "outputs": []
    },
    {
      "cell_type": "code",
      "metadata": {
        "id": "n4dE39fC7teS"
      },
      "source": [
        "X = mydata[['year','age']]\n",
        "y = mydata['wage'] > 250 "
      ],
      "execution_count": null,
      "outputs": []
    },
    {
      "cell_type": "code",
      "metadata": {
        "id": "plGa-UOx7teS"
      },
      "source": [
        "# Here we can control the hyper-parameters n_splines for splines and lambdas for the penalty\n",
        "gam5 = LogisticGAM(l(0)+s(1, n_splines=50), lam=0.6).fit(X, y.values.astype(int))\n",
        "# gam5.summary()\n",
        "plt.rcParams['figure.figsize'] = (28, 8)\n",
        "fig, axs = plt.subplots(1, 2)\n",
        "titles = list(X.columns)\n",
        "for i, ax in enumerate(axs):\n",
        "    XX = gam5.generate_X_grid(term=i)\n",
        "    ax.plot(XX[:, i], gam5.partial_dependence(term=i, X=XX), c='g')\n",
        "    ax.plot(XX[:, i], gam5.partial_dependence(term=i, X=XX, width=.95)[1], c='k', ls='--')\n",
        "    ax.set_title(titles[i]);\n",
        "plt.show()"
      ],
      "execution_count": null,
      "outputs": []
    }
  ]
}