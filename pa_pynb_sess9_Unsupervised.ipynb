{
  "nbformat": 4,
  "nbformat_minor": 0,
  "metadata": {
    "kernelspec": {
      "display_name": "Python 3",
      "language": "python",
      "name": "python3"
    },
    "language_info": {
      "codemirror_mode": {
        "name": "ipython",
        "version": 3
      },
      "file_extension": ".py",
      "mimetype": "text/x-python",
      "name": "python",
      "nbconvert_exporter": "python",
      "pygments_lexer": "ipython3",
      "version": "3.8.3"
    },
    "colab": {
      "provenance": [],
      "include_colab_link": true
    }
  },
  "cells": [
    {
      "cell_type": "markdown",
      "metadata": {
        "id": "view-in-github",
        "colab_type": "text"
      },
      "source": [
        "<a href=\"https://colab.research.google.com/github/danielbauer1979/ML_656/blob/main/pa_pynb_sess9_Unsupervised.ipynb\" target=\"_parent\"><img src=\"https://colab.research.google.com/assets/colab-badge.svg\" alt=\"Open In Colab\"/></a>"
      ]
    },
    {
      "cell_type": "markdown",
      "source": [
        "# Unsupervised Learning: Clustering and PCA Analysis\n",
        "Dani Bauer, 2022\n",
        "\n",
        "As mentioned in the beginning of lecture, there are (at least) two basic learning setups.  In **supervised** machine learning one observes a response $Y$ with observing $p$ different features $X=(X_1,X_2,\\ldots,X_p)$, where we typically postulate the relationship $Y = f(X)+\\varepsilon$ and $\\varepsilon$ independent of $X$ with mean zero. Here quality is usually assessed by the (test/out-of-sample) error that compares predictions and realizations for a separate dataset.  In **unsupervised** learning, we only observe $p$ features $X_1,X_2,\\ldots,X_p$, and we would like to learn about their relationship -- without focussing on a supervising outcome.  Of course, the difficulty is how to assess quality in this case -- so different unsupervised learning techniques are very different, and which one to pick will depend on the nature of the problem.\n",
        "\n",
        "In this tutorial, we will take a closer look at two algorithms: **Principal Component Analysis (PCA)** and **Clustering**.  There are variety of other techniques, including anomaly detection, self-organizing maps, association analysis, etc. We start with quick introductions but then look into the applications of these techniques in more detail in the context of a case study.\n",
        "\n",
        "As usual, we start by implementing the relevant packages:"
      ],
      "metadata": {
        "id": "aIiejbOjljzy"
      }
    },
    {
      "cell_type": "code",
      "metadata": {
        "id": "7vCC-SQb7VRR"
      },
      "source": [
        "import numpy as np \n",
        "import matplotlib.pyplot as plt  \n",
        "import matplotlib.lines as mlines\n",
        "import plotly.figure_factory as ff\n",
        "import pandas as pd   \n",
        "import seaborn as sns\n",
        "from random import sample\n",
        "\n",
        "from sklearn.preprocessing import MinMaxScaler, StandardScaler # For rescaling metrics to fit 0 to 1 range\n",
        "from sklearn.metrics import multilabel_confusion_matrix\n",
        "from sklearn.cluster import KMeans, AgglomerativeClustering\n",
        "from scipy.cluster.hierarchy import dendrogram, linkage\n",
        "from sklearn.decomposition import PCA\n",
        "from scipy.spatial.distance import euclidean"
      ],
      "execution_count": 142,
      "outputs": []
    },
    {
      "cell_type": "markdown",
      "source": [
        "# Principal Component Analysis\n",
        "\n",
        "## Background\n",
        "\n",
        "The key idea behind *Principal Component Analysis* (PCA) is to use \"meaningful\" linear combinations of the data:\n",
        "$$\n",
        "Z_m = \\sum_{j=1}^p \\phi_{jm} X_j \\text{ such that }\\sum_{j=1}^p \\phi^2_{jm} = 1,\n",
        "$$\n",
        "where the idea is to choose:\n",
        "\n",
        "- $\\phi_{j1},\\,j=1,\\ldots,p$  such that the the variance of $Z_1$ is maximal (i.e., so that it captures most of the variation in the $X$s)\n",
        "\n",
        "- $\\phi_{j2},\\,j=1,\\ldots,p$ such that the variance of $Z_2$ is maximial out of all the variables that are uncorrelated with $Z_1$.\n",
        "\n",
        "- $\\phi_{j3},\\,j=1,\\ldots,p$ such that the variance of $Z_3$ is maximial out of all the variables that are uncorrelated with $Z_1$ and $Z_2$. $\\ldots$\n",
        "\n",
        "Hence, one way to intepret the principal components are the linear combination that best reflect the variation in the data.\n",
        "\n",
        "Importantly, the scale of variables matters, so it is a good idea to center and scale your variables.  Also, the components are only determined up to their sign (plus/minus).  To discern how important different variables are, one typically considers the *Percent of Variance Explained* (PVE):\n",
        "$$\n",
        "\\text{PVE}_m = \\frac{\\sum_{i=1}^n \\left(\\sum_{j=1}^p \\phi_{jm}x_{ij}\\right)^2}{\\sum_{i=1}^n \\sum_{j=1}^p x_{ij}^2},\n",
        "$$\n",
        "and the resulting plot that depicts PVE by principal components is referred to as a *scee plot*.\n",
        "\n",
        "## Simulated Example\n",
        "\n",
        "Let's consider a basic example, where we simulate heights and weights of a fictional population according to some arbitrary parameters.  More precisely, we assume that weight and height follow Normal distributions with a mean weight (in kg) of 70 and a mean height (in cm) of 170m, and variances of 25 and 150, respectively.  We assume the correlation parameter is 50%.\n"
      ],
      "metadata": {
        "id": "M0g7gj9NmeKj"
      }
    },
    {
      "cell_type": "code",
      "source": [
        "mu = (70,170)\n",
        "cov = np.array([[25, np.sqrt(25)*np.sqrt(150)*0.5], [np.sqrt(25)*np.sqrt(150)*0.5, 150]])\n",
        "X_raw = np.random.multivariate_normal(mu, cov, size=5000)"
      ],
      "metadata": {
        "id": "WUPuLhokm73m"
      },
      "execution_count": 143,
      "outputs": []
    },
    {
      "cell_type": "markdown",
      "source": [
        "Let's check quick:"
      ],
      "metadata": {
        "id": "nwTiQwq_p0Fy"
      }
    },
    {
      "cell_type": "code",
      "source": [
        "X_raw.mean(axis=0)"
      ],
      "metadata": {
        "id": "bl3Q6vB_prhP",
        "colab": {
          "base_uri": "https://localhost:8080/"
        },
        "outputId": "3765e1ac-153e-4fec-b44f-491ffb71618b"
      },
      "execution_count": 144,
      "outputs": [
        {
          "output_type": "execute_result",
          "data": {
            "text/plain": [
              "array([ 70.09771694, 170.26494615])"
            ]
          },
          "metadata": {},
          "execution_count": 144
        }
      ]
    },
    {
      "cell_type": "code",
      "source": [
        "np.cov(np.transpose(X_raw))"
      ],
      "metadata": {
        "id": "NmFiKEcHqCjt",
        "colab": {
          "base_uri": "https://localhost:8080/"
        },
        "outputId": "b2ea1a68-ae41-4af3-834a-bb9e7f3013cd"
      },
      "execution_count": 145,
      "outputs": [
        {
          "output_type": "execute_result",
          "data": {
            "text/plain": [
              "array([[ 24.50592629,  30.5482845 ],\n",
              "       [ 30.5482845 , 151.56577393]])"
            ]
          },
          "metadata": {},
          "execution_count": 145
        }
      ]
    },
    {
      "cell_type": "code",
      "source": [
        "np.corrcoef(np.transpose(X_raw))"
      ],
      "metadata": {
        "colab": {
          "base_uri": "https://localhost:8080/"
        },
        "id": "7CP5fiTOyaJ4",
        "outputId": "a8493845-009e-423a-cb2f-8064392abe9f"
      },
      "execution_count": 146,
      "outputs": [
        {
          "output_type": "execute_result",
          "data": {
            "text/plain": [
              "array([[1.        , 0.50124574],\n",
              "       [0.50124574, 1.        ]])"
            ]
          },
          "metadata": {},
          "execution_count": 146
        }
      ]
    },
    {
      "cell_type": "markdown",
      "source": [
        "So the *empirical* moments look similar to our theoretical moments. Let's take a peak:\n"
      ],
      "metadata": {
        "id": "8qFiIVu4p161"
      }
    },
    {
      "cell_type": "code",
      "source": [
        "plt.figure(figsize = (6,4))\n",
        "plt.scatter(X_raw[:,0], X_raw[:,1], s = 1, color = 'black')\n",
        "plt.xlabel('weight')\n",
        "plt.ylabel('height')\n",
        "plt.legend()\n",
        "plt.show()"
      ],
      "metadata": {
        "id": "tY1m2LNRpBg0",
        "colab": {
          "base_uri": "https://localhost:8080/",
          "height": 297
        },
        "outputId": "53cc3375-04cf-467c-da35-ea670340a527"
      },
      "execution_count": 147,
      "outputs": [
        {
          "output_type": "stream",
          "name": "stderr",
          "text": [
            "WARNING:matplotlib.legend:No handles with labels found to put in legend.\n"
          ]
        },
        {
          "output_type": "display_data",
          "data": {
            "text/plain": [
              "<Figure size 432x288 with 1 Axes>"
            ],
            "image/png": "[encoded data removed]"
          },
          "metadata": {
            "needs_background": "light"
          }
        }
      ]
    },
    {
      "cell_type": "markdown",
      "source": [
        "Prinicipal components are closely related to the eigen-analysis (eigenvalues and eigenvectors) of the correlation (or covariance) matrix.  Let's illustrate (if you never had a linear algebra class, feel free to skip this part).  First, let's scale the data and calculate the (empirical) correlation matrix -- remember, in practical settings we usually don't know the underlying parameters:\n"
      ],
      "metadata": {
        "id": "_IXLO-52q0zt"
      }
    },
    {
      "cell_type": "code",
      "source": [
        "R = np.corrcoef(np.transpose(X_raw))\n",
        "R"
      ],
      "metadata": {
        "id": "5VahnsYuq1xp",
        "colab": {
          "base_uri": "https://localhost:8080/"
        },
        "outputId": "c0823096-14a3-4ceb-807e-8e0f755d385c"
      },
      "execution_count": 148,
      "outputs": [
        {
          "output_type": "execute_result",
          "data": {
            "text/plain": [
              "array([[1.        , 0.50124574],\n",
              "       [0.50124574, 1.        ]])"
            ]
          },
          "metadata": {},
          "execution_count": 148
        }
      ]
    },
    {
      "cell_type": "markdown",
      "source": [
        "Let's calculate the eigenvalues and the eigenvectors of `R`.  As a reminder, the eigenvectors decompose a matrix (a.k.a. a linear mapping in finite dimensions) in orthogonal directions, whereas the eignvalues provide the \"length\" (importance) of the directions.  In particular, we can represent a symmetric matrix in diagnolized form by relying on eigenvectors and eigenvalues. "
      ],
      "metadata": {
        "id": "mdNuryMYrJt6"
      }
    },
    {
      "cell_type": "code",
      "source": [
        "Dec = np.linalg.eig(R)\n",
        "Dec"
      ],
      "metadata": {
        "id": "rpMC6B0drS6-",
        "colab": {
          "base_uri": "https://localhost:8080/"
        },
        "outputId": "2edbf785-3ff2-4bec-f2fe-2e975716a7fb"
      },
      "execution_count": 149,
      "outputs": [
        {
          "output_type": "execute_result",
          "data": {
            "text/plain": [
              "(array([0.49875426, 1.50124574]), array([[-0.70710678, -0.70710678],\n",
              "        [ 0.70710678, -0.70710678]]))"
            ]
          },
          "metadata": {},
          "execution_count": 149
        }
      ]
    },
    {
      "cell_type": "code",
      "source": [
        "V = Dec[1] # Matrix of Eigenvectores\n",
        "D = np.diag(Dec[0]) # Diagonal Matrix of Eigenvalues\n",
        "np.dot(np.dot(V,D),np.transpose(V)) # Calculates V * D * V'"
      ],
      "metadata": {
        "id": "oGS9R-CxsVgM",
        "colab": {
          "base_uri": "https://localhost:8080/"
        },
        "outputId": "89fd6d6a-744e-4990-b7cb-ab62ee5f56c2"
      },
      "execution_count": 150,
      "outputs": [
        {
          "output_type": "execute_result",
          "data": {
            "text/plain": [
              "array([[1.        , 0.50124574],\n",
              "       [0.50124574, 1.        ]])"
            ]
          },
          "metadata": {},
          "execution_count": 150
        }
      ]
    },
    {
      "cell_type": "markdown",
      "source": [
        "To get intuition, let's plot the Eigenvectors:"
      ],
      "metadata": {
        "id": "yUlyHgUy3IyG"
      }
    },
    {
      "cell_type": "code",
      "source": [
        "scaler = StandardScaler()\n",
        "scaler.fit(X_raw)\n",
        "plt.figure(figsize = (6,4))\n",
        "fig, ax = plt.subplots()\n",
        "ax.scatter(scaler.transform(X_raw)[:,0], scaler.transform(X_raw)[:,1], s = 1, color = 'black')\n",
        "line1 = mlines.Line2D([0, 0.7071], [0, -.7071], color='red')\n",
        "line2 = mlines.Line2D([0, .7071], [0, .7071], color='yellow')\n",
        "transform = ax.transAxes\n",
        "ax.add_line(line1)\n",
        "ax.add_line(line2)\n",
        "plt.xlabel('scaled weight')\n",
        "plt.ylabel('scaled height')\n",
        "plt.show()"
      ],
      "metadata": {
        "id": "_qNILkH44nBQ",
        "colab": {
          "base_uri": "https://localhost:8080/",
          "height": 297
        },
        "outputId": "3efdab0a-c79b-4bcf-8dd6-449544314be6"
      },
      "execution_count": 151,
      "outputs": [
        {
          "output_type": "display_data",
          "data": {
            "text/plain": [
              "<Figure size 432x288 with 0 Axes>"
            ]
          },
          "metadata": {}
        },
        {
          "output_type": "display_data",
          "data": {
            "text/plain": [
              "<Figure size 432x288 with 1 Axes>"
            ],
            "image/png": "[encoded data removed]"
          },
          "metadata": {
            "needs_background": "light"
          }
        }
      ]
    },
    {
      "cell_type": "markdown",
      "source": [
        "It is exactly this notion of \"importance\" that motivates principal components.  Indeed, the loadings of the principal components just amount to the *ordered* eigenvalues..."
      ],
      "metadata": {
        "id": "D100cSoIsTRT"
      }
    },
    {
      "cell_type": "markdown",
      "source": [
        "# Clustering\n",
        "\n",
        "## Background\n",
        "\n",
        "*Clustering* refers to techniques for finding subgroups in a given dataset. The typical approach to determine clusters $C_1,\\ldots,C_K$ is to minimize:\n",
        "$$\n",
        "\\sum_{k=1}^K W(C_k),\n",
        "$$\n",
        "where $W$ is a measure of *variation* within a cluster.  For instance, **k-means clustering** uses the Euclidean distance to measure variation:\n",
        "$$\n",
        "W(C_k) = \\frac{1}{|C_k|} \\sum_{i,i' \\in C_k} \\sum_{j=1}^p (x_{ij} - x_{i'j})^2.\n",
        "$$\n",
        "The algorithms are implemented via a greedy algorithm by considering the centers of clusters (referred to as *centroids*).  The number of clusters $K$ must be chosen beforehand.  One approach is *hierarchical clustering*, where one starts with a larger number of clusters and then *fuses* custers that are similar (e.g., with regards to the distance between their centroids). \n",
        "\n",
        "## Simulated Example\n",
        "\n",
        "Let's consider a very basic simulated example -- let's simulate normal random variables with different means:"
      ],
      "metadata": {
        "id": "OEru_Pl4ACGa"
      }
    },
    {
      "cell_type": "code",
      "source": [
        "X_raw2 = np.random.multivariate_normal((0,0), np.array([[1, 0], [0, 1]]), size=100)\n",
        "X_raw2[0:49,0]=X_raw2[1:50,0]+3\n",
        "X_raw2[0:49,1]=X_raw2[1:50,1]-4"
      ],
      "metadata": {
        "id": "tCFUcnLqbdpU"
      },
      "execution_count": 152,
      "outputs": []
    },
    {
      "cell_type": "markdown",
      "source": [
        "Let's plot:"
      ],
      "metadata": {
        "id": "Ozl7WSIvbdMs"
      }
    },
    {
      "cell_type": "code",
      "source": [
        "plt.figure(figsize = (6,4))\n",
        "plt.scatter(X_raw2[0:49,0], X_raw2[0:49,1], color='red')\n",
        "plt.scatter(X_raw2[50:99,0], X_raw2[50:99,1], color='black')\n",
        "plt.xlabel('X0')\n",
        "plt.ylabel('X1')\n",
        "plt.legend()\n",
        "plt.show()"
      ],
      "metadata": {
        "id": "AG2cFW5VctpN",
        "colab": {
          "base_uri": "https://localhost:8080/",
          "height": 297
        },
        "outputId": "73cba044-393e-4b17-fe1c-023c0dafaae1"
      },
      "execution_count": 153,
      "outputs": [
        {
          "output_type": "stream",
          "name": "stderr",
          "text": [
            "WARNING:matplotlib.legend:No handles with labels found to put in legend.\n"
          ]
        },
        {
          "output_type": "display_data",
          "data": {
            "text/plain": [
              "<Figure size 432x288 with 1 Axes>"
            ],
            "image/png": "[encoded data removed]"
          },
          "metadata": {
            "needs_background": "light"
          }
        }
      ]
    },
    {
      "cell_type": "markdown",
      "source": [
        "And let's run k means clustering:\n"
      ],
      "metadata": {
        "id": "5WdTAU69d6rp"
      }
    },
    {
      "cell_type": "code",
      "source": [
        "kmeans = KMeans(n_clusters = 2, init = 'k-means++', max_iter = 1000, random_state = 123)\n",
        "kmeans.fit(X_raw2)\n",
        "centroids = kmeans.cluster_centers_\n",
        "centroids"
      ],
      "metadata": {
        "id": "oq_YzcFwd6dY",
        "colab": {
          "base_uri": "https://localhost:8080/"
        },
        "outputId": "485f0e2b-c9aa-4ef8-8ae4-66b8b990a650"
      },
      "execution_count": 154,
      "outputs": [
        {
          "output_type": "execute_result",
          "data": {
            "text/plain": [
              "array([[ 0.08059452,  0.10909523],\n",
              "       [ 3.0694002 , -4.0329166 ]])"
            ]
          },
          "metadata": {},
          "execution_count": 154
        }
      ]
    },
    {
      "cell_type": "code",
      "source": [
        "label = kmeans.fit_predict(X_raw2)\n",
        "label"
      ],
      "metadata": {
        "id": "PhY9123eecf-",
        "colab": {
          "base_uri": "https://localhost:8080/"
        },
        "outputId": "a1f32442-8f08-4e67-9547-137fedfd70d3"
      },
      "execution_count": 155,
      "outputs": [
        {
          "output_type": "execute_result",
          "data": {
            "text/plain": [
              "array([1, 1, 1, 1, 1, 1, 1, 1, 1, 1, 1, 1, 1, 1, 1, 1, 1, 1, 1, 1, 1, 1,\n",
              "       1, 1, 1, 1, 1, 1, 1, 1, 1, 1, 1, 1, 1, 1, 1, 1, 1, 1, 1, 1, 1, 1,\n",
              "       1, 1, 1, 1, 1, 0, 0, 0, 0, 0, 0, 0, 0, 0, 0, 0, 0, 0, 0, 0, 0, 0,\n",
              "       0, 0, 0, 0, 0, 0, 0, 0, 0, 0, 1, 0, 0, 0, 0, 0, 0, 0, 0, 0, 0, 0,\n",
              "       0, 0, 0, 0, 0, 0, 0, 0, 0, 0, 0, 0], dtype=int32)"
            ]
          },
          "metadata": {},
          "execution_count": 155
        }
      ]
    },
    {
      "cell_type": "markdown",
      "source": [
        "So the algorithm was able to identify how we set up the data!"
      ],
      "metadata": {
        "id": "TPcmD4aOeq3P"
      }
    },
    {
      "cell_type": "markdown",
      "source": [
        "# Case Study: County Health Rankings 2013\n",
        "\n",
        "We analyze [County Health Rankings](www.countyhealthrankings.org) in the US in 2013, based on a data set from the University of Wisconsin Population Health Institute.  I took this exammple from Jim Guszcza, and he put this together in R (it's much better than what I had before :-).\n",
        "\n",
        "## Data Preparation\n",
        "\n",
        "Let's load the data:"
      ],
      "metadata": {
        "id": "3RW20yqheke7"
      }
    },
    {
      "cell_type": "code",
      "metadata": {
        "id": "Ge_n_HRNgRm0",
        "colab": {
          "base_uri": "https://localhost:8080/"
        },
        "outputId": "05af877c-8c0b-4035-80c4-997689eabd72"
      },
      "source": [
        "!git clone https://github.com/danielbauer1979/ML_656.git"
      ],
      "execution_count": 156,
      "outputs": [
        {
          "output_type": "stream",
          "name": "stdout",
          "text": [
            "fatal: destination path 'ML_656' already exists and is not an empty directory.\n"
          ]
        }
      ]
    },
    {
      "cell_type": "code",
      "metadata": {
        "id": "2whMtWdEgtAh"
      },
      "source": [
        "health = pd.read_csv('ML_656/countyHealthRR.csv')"
      ],
      "execution_count": 161,
      "outputs": []
    },
    {
      "cell_type": "code",
      "source": [
        "health.info()"
      ],
      "metadata": {
        "id": "V3w077i9fShr",
        "colab": {
          "base_uri": "https://localhost:8080/"
        },
        "outputId": "b992873c-659a-42d3-9e7e-c56bb7b6fbac"
      },
      "execution_count": 158,
      "outputs": [
        {
          "output_type": "stream",
          "name": "stdout",
          "text": [
            "<class 'pandas.core.frame.DataFrame'>\n",
            "RangeIndex: 3141 entries, 0 to 3140\n",
            "Data columns (total 33 columns):\n",
            " #   Column                     Non-Null Count  Dtype  \n",
            "---  ------                     --------------  -----  \n",
            " 0   FIPS                       3141 non-null   int64  \n",
            " 1   State                      3141 non-null   object \n",
            " 2   County                     3141 non-null   object \n",
            " 3   YPLL.Rate                  2987 non-null   float64\n",
            " 4   Perc.Fair.Poor.Health      2743 non-null   float64\n",
            " 5   Physically.Unhealthy.Days  2897 non-null   float64\n",
            " 6   Mentally.Unhealthy.Days    2862 non-null   float64\n",
            " 7   Perc.Low.Birth.Weight      2922 non-null   float64\n",
            " 8   Perc.Smokers               2536 non-null   float64\n",
            " 9   Perc.Obese                 3141 non-null   int64  \n",
            " 10  Perc.Physically.Inactive   3141 non-null   int64  \n",
            " 11  Perc.Excessive.Drinking    2623 non-null   float64\n",
            " 12  MV.Mortality.Rate          2773 non-null   float64\n",
            " 13  Chlamydia.Rate             3135 non-null   float64\n",
            " 14  Teen.Birth.Rate            2960 non-null   float64\n",
            " 15  Perc.Uninsured             3140 non-null   float64\n",
            " 16  Pr.Care.Physician.Ratio    2751 non-null   float64\n",
            " 17  Dentist.Ratio              2984 non-null   float64\n",
            " 18  Prev.Hosp.Stay.Rate        3011 non-null   float64\n",
            " 19  Perc.Diabetic.Screening    3094 non-null   float64\n",
            " 20  Perc.Mammography           3055 non-null   float64\n",
            " 21  Perc.High.School.Grad      3107 non-null   float64\n",
            " 22  Perc.Some.College          3141 non-null   float64\n",
            " 23  Perc.Unemployed            3140 non-null   float64\n",
            " 24  Perc.Children.in.Poverty   3140 non-null   float64\n",
            " 25  Perc.No.Soc.Emo.Support    2471 non-null   float64\n",
            " 26  Perc.Single.Parent.HH      3137 non-null   float64\n",
            " 27  Violent.Crime.Rate         2966 non-null   float64\n",
            " 28  Avg.Daily.Particulates     3107 non-null   float64\n",
            " 29  Perc.pop.in.viol           3084 non-null   float64\n",
            " 30  Rec.Facility.Rate          3141 non-null   float64\n",
            " 31  Perc.Limited.Access        3141 non-null   int64  \n",
            " 32  Perc.Fast.Foods            2989 non-null   float64\n",
            "dtypes: float64(27), int64(4), object(2)\n",
            "memory usage: 809.9+ KB\n"
          ]
        }
      ]
    },
    {
      "cell_type": "markdown",
      "source": [
        "So it's a large dataset, and the first three numbers are indices.  However, the remaning columns provide rather detailed information for each county.  Let's visualize: "
      ],
      "metadata": {
        "id": "W6DWnaeb0RHs"
      }
    },
    {
      "cell_type": "code",
      "source": [
        "sns.heatmap(health.corr());"
      ],
      "metadata": {
        "colab": {
          "base_uri": "https://localhost:8080/",
          "height": 382
        },
        "id": "z8Ia-qwL0k1k",
        "outputId": "c98082ad-6ab0-47bf-e0a1-13ce0d8d5889"
      },
      "execution_count": 159,
      "outputs": [
        {
          "output_type": "display_data",
          "data": {
            "text/plain": [
              "<Figure size 432x288 with 2 Axes>"
            ],
            "image/png": "[encoded data removed]"
          },
          "metadata": {
            "needs_background": "light"
          }
        }
      ]
    },
    {
      "cell_type": "markdown",
      "source": [
        "So quite a bit of correlation, but nothing seems to be \"replicated.\"  \n",
        "\n",
        "Unfortunately, we have a bunch of missing data. Let's drop the columns where we have lots of missing values and then drop na-s:"
      ],
      "metadata": {
        "id": "4bfsz1CRe7y9"
      }
    },
    {
      "cell_type": "code",
      "metadata": {
        "id": "012bX41Lg9dF"
      },
      "source": [
        "health = health.drop(columns=['FIPS','State','County','Perc.Fair.Poor.Health','Perc.Smokers','Perc.Excessive.Drinking','MV.Mortality.Rate','Pr.Care.Physician.Ratio','Perc.No.Soc.Emo.Support'])"
      ],
      "execution_count": 162,
      "outputs": []
    },
    {
      "cell_type": "code",
      "metadata": {
        "id": "nm0Hb3CxhytE"
      },
      "source": [
        "health = health.dropna()"
      ],
      "execution_count": 163,
      "outputs": []
    },
    {
      "cell_type": "markdown",
      "source": [
        "Let's look at the resulting data:"
      ],
      "metadata": {
        "id": "AOvjhvUr1Me8"
      }
    },
    {
      "cell_type": "code",
      "source": [
        "health.info()"
      ],
      "metadata": {
        "colab": {
          "base_uri": "https://localhost:8080/"
        },
        "id": "YHiF5HDW1PnQ",
        "outputId": "b03377f7-c544-4679-8a5e-600cc22249f2"
      },
      "execution_count": 164,
      "outputs": [
        {
          "output_type": "stream",
          "name": "stdout",
          "text": [
            "<class 'pandas.core.frame.DataFrame'>\n",
            "Int64Index: 2387 entries, 0 to 3140\n",
            "Data columns (total 24 columns):\n",
            " #   Column                     Non-Null Count  Dtype  \n",
            "---  ------                     --------------  -----  \n",
            " 0   YPLL.Rate                  2387 non-null   float64\n",
            " 1   Physically.Unhealthy.Days  2387 non-null   float64\n",
            " 2   Mentally.Unhealthy.Days    2387 non-null   float64\n",
            " 3   Perc.Low.Birth.Weight      2387 non-null   float64\n",
            " 4   Perc.Obese                 2387 non-null   int64  \n",
            " 5   Perc.Physically.Inactive   2387 non-null   int64  \n",
            " 6   Chlamydia.Rate             2387 non-null   float64\n",
            " 7   Teen.Birth.Rate            2387 non-null   float64\n",
            " 8   Perc.Uninsured             2387 non-null   float64\n",
            " 9   Dentist.Ratio              2387 non-null   float64\n",
            " 10  Prev.Hosp.Stay.Rate        2387 non-null   float64\n",
            " 11  Perc.Diabetic.Screening    2387 non-null   float64\n",
            " 12  Perc.Mammography           2387 non-null   float64\n",
            " 13  Perc.High.School.Grad      2387 non-null   float64\n",
            " 14  Perc.Some.College          2387 non-null   float64\n",
            " 15  Perc.Unemployed            2387 non-null   float64\n",
            " 16  Perc.Children.in.Poverty   2387 non-null   float64\n",
            " 17  Perc.Single.Parent.HH      2387 non-null   float64\n",
            " 18  Violent.Crime.Rate         2387 non-null   float64\n",
            " 19  Avg.Daily.Particulates     2387 non-null   float64\n",
            " 20  Perc.pop.in.viol           2387 non-null   float64\n",
            " 21  Rec.Facility.Rate          2387 non-null   float64\n",
            " 22  Perc.Limited.Access        2387 non-null   int64  \n",
            " 23  Perc.Fast.Foods            2387 non-null   float64\n",
            "dtypes: float64(21), int64(3)\n",
            "memory usage: 466.2 KB\n"
          ]
        }
      ]
    },
    {
      "cell_type": "code",
      "source": [
        "health.describe()"
      ],
      "metadata": {
        "colab": {
          "base_uri": "https://localhost:8080/",
          "height": 393
        },
        "id": "oeIESh-O1SwN",
        "outputId": "3df17da5-4aa1-46ba-f597-05c4b30cc7be"
      },
      "execution_count": 165,
      "outputs": [
        {
          "output_type": "execute_result",
          "data": {
            "text/plain": [
              "          YPLL.Rate  Physically.Unhealthy.Days  Mentally.Unhealthy.Days  \\\n",
              "count   2387.000000                2387.000000              2387.000000   \n",
              "mean    7884.297444                   3.807331                 3.501718   \n",
              "std     2215.304596                   1.014505                 0.935641   \n",
              "min     2950.000000                   1.300000                 0.800000   \n",
              "25%     6278.000000                   3.100000                 2.900000   \n",
              "50%     7620.000000                   3.700000                 3.400000   \n",
              "75%     9254.000000                   4.400000                 4.100000   \n",
              "max    19937.000000                   8.500000                 7.300000   \n",
              "\n",
              "       Perc.Low.Birth.Weight   Perc.Obese  Perc.Physically.Inactive  \\\n",
              "count            2387.000000  2387.000000               2387.000000   \n",
              "mean                8.166862    30.431085                 27.571429   \n",
              "std                 1.930727     4.203510                  5.290337   \n",
              "min                 3.400000    14.000000                 10.000000   \n",
              "25%                 6.800000    28.000000                 24.000000   \n",
              "50%                 7.900000    31.000000                 28.000000   \n",
              "75%                 9.200000    33.000000                 31.000000   \n",
              "max                17.500000    48.000000                 44.000000   \n",
              "\n",
              "       Chlamydia.Rate  Teen.Birth.Rate  Perc.Uninsured  Dentist.Ratio  ...  \\\n",
              "count     2387.000000      2387.000000     2387.000000    2387.000000  ...   \n",
              "mean       312.504399        44.272727       17.804776    3190.894847  ...   \n",
              "std        236.950701        18.964137        5.172264    1763.230961  ...   \n",
              "min          0.000000         4.000000        5.000000    1002.000000  ...   \n",
              "25%        157.000000        30.000000       14.000000    1899.500000  ...   \n",
              "50%        245.000000        43.000000       18.000000    2703.000000  ...   \n",
              "75%        394.000000        57.000000       21.000000    3922.000000  ...   \n",
              "max       2245.000000       120.000000       38.000000    9975.000000  ...   \n",
              "\n",
              "       Perc.Some.College  Perc.Unemployed  Perc.Children.in.Poverty  \\\n",
              "count        2387.000000      2387.000000               2387.000000   \n",
              "mean           54.485337         8.779263                 24.369083   \n",
              "std            11.451334         2.770127                  8.664314   \n",
              "min            23.200000         1.100000                  4.000000   \n",
              "25%            46.200000         7.000000                 18.000000   \n",
              "50%            54.500000         8.500000                 24.000000   \n",
              "75%            62.600000        10.400000                 30.000000   \n",
              "max            90.400000        29.700000                 62.000000   \n",
              "\n",
              "       Perc.Single.Parent.HH  Violent.Crime.Rate  Avg.Daily.Particulates  \\\n",
              "count            2387.000000         2387.000000             2387.000000   \n",
              "mean               31.188521          281.880603               11.202053   \n",
              "std                 9.083047          220.443342                1.780946   \n",
              "min                 4.000000            0.000000                6.400000   \n",
              "25%                25.000000          127.500000                9.800000   \n",
              "50%                30.000000          224.000000               11.300000   \n",
              "75%                36.000000          372.000000               12.700000   \n",
              "max                75.000000         1987.000000               14.800000   \n",
              "\n",
              "       Perc.pop.in.viol  Rec.Facility.Rate  Perc.Limited.Access  \\\n",
              "count       2387.000000        2387.000000          2387.000000   \n",
              "mean           8.605362           8.161500             6.922916   \n",
              "std           18.144205           6.379079             5.195984   \n",
              "min            0.000000           0.000000             0.000000   \n",
              "25%            0.000000           4.000000             3.000000   \n",
              "50%            0.000000           7.800000             6.000000   \n",
              "75%            7.500000          11.400000             9.000000   \n",
              "max          100.000000          62.400000            44.000000   \n",
              "\n",
              "       Perc.Fast.Foods  \n",
              "count      2387.000000  \n",
              "mean         45.810222  \n",
              "std          12.244557  \n",
              "min           7.000000  \n",
              "25%          38.000000  \n",
              "50%          47.000000  \n",
              "75%          54.000000  \n",
              "max         100.000000  \n",
              "\n",
              "[8 rows x 24 columns]"
            ],
            "text/html": [
              "\n",
              "  <div id=\"df-f90707e9-d803-4377-a69c-016a657d1ce6\">\n",
              "    <div class=\"colab-df-container\">\n",
              "      <div>\n",
              "<style scoped>\n",
              "    .dataframe tbody tr th:only-of-type {\n",
              "        vertical-align: middle;\n",
              "    }\n",
              "\n",
              "    .dataframe tbody tr th {\n",
              "        vertical-align: top;\n",
              "    }\n",
              "\n",
              "    .dataframe thead th {\n",
              "        text-align: right;\n",
              "    }\n",
              "</style>\n",
              "<table border=\"1\" class=\"dataframe\">\n",
              "  <thead>\n",
              "    <tr style=\"text-align: right;\">\n",
              "      <th></th>\n",
              "      <th>YPLL.Rate</th>\n",
              "      <th>Physically.Unhealthy.Days</th>\n",
              "      <th>Mentally.Unhealthy.Days</th>\n",
              "      <th>Perc.Low.Birth.Weight</th>\n",
              "      <th>Perc.Obese</th>\n",
              "      <th>Perc.Physically.Inactive</th>\n",
              "      <th>Chlamydia.Rate</th>\n",
              "      <th>Teen.Birth.Rate</th>\n",
              "      <th>Perc.Uninsured</th>\n",
              "      <th>Dentist.Ratio</th>\n",
              "      <th>...</th>\n",
              "      <th>Perc.Some.College</th>\n",
              "      <th>Perc.Unemployed</th>\n",
              "      <th>Perc.Children.in.Poverty</th>\n",
              "      <th>Perc.Single.Parent.HH</th>\n",
              "      <th>Violent.Crime.Rate</th>\n",
              "      <th>Avg.Daily.Particulates</th>\n",
              "      <th>Perc.pop.in.viol</th>\n",
              "      <th>Rec.Facility.Rate</th>\n",
              "      <th>Perc.Limited.Access</th>\n",
              "      <th>Perc.Fast.Foods</th>\n",
              "    </tr>\n",
              "  </thead>\n",
              "  <tbody>\n",
              "    <tr>\n",
              "      <th>count</th>\n",
              "      <td>2387.000000</td>\n",
              "      <td>2387.000000</td>\n",
              "      <td>2387.000000</td>\n",
              "      <td>2387.000000</td>\n",
              "      <td>2387.000000</td>\n",
              "      <td>2387.000000</td>\n",
              "      <td>2387.000000</td>\n",
              "      <td>2387.000000</td>\n",
              "      <td>2387.000000</td>\n",
              "      <td>2387.000000</td>\n",
              "      <td>...</td>\n",
              "      <td>2387.000000</td>\n",
              "      <td>2387.000000</td>\n",
              "      <td>2387.000000</td>\n",
              "      <td>2387.000000</td>\n",
              "      <td>2387.000000</td>\n",
              "      <td>2387.000000</td>\n",
              "      <td>2387.000000</td>\n",
              "      <td>2387.000000</td>\n",
              "      <td>2387.000000</td>\n",
              "      <td>2387.000000</td>\n",
              "    </tr>\n",
              "    <tr>\n",
              "      <th>mean</th>\n",
              "      <td>7884.297444</td>\n",
              "      <td>3.807331</td>\n",
              "      <td>3.501718</td>\n",
              "      <td>8.166862</td>\n",
              "      <td>30.431085</td>\n",
              "      <td>27.571429</td>\n",
              "      <td>312.504399</td>\n",
              "      <td>44.272727</td>\n",
              "      <td>17.804776</td>\n",
              "      <td>3190.894847</td>\n",
              "      <td>...</td>\n",
              "      <td>54.485337</td>\n",
              "      <td>8.779263</td>\n",
              "      <td>24.369083</td>\n",
              "      <td>31.188521</td>\n",
              "      <td>281.880603</td>\n",
              "      <td>11.202053</td>\n",
              "      <td>8.605362</td>\n",
              "      <td>8.161500</td>\n",
              "      <td>6.922916</td>\n",
              "      <td>45.810222</td>\n",
              "    </tr>\n",
              "    <tr>\n",
              "      <th>std</th>\n",
              "      <td>2215.304596</td>\n",
              "      <td>1.014505</td>\n",
              "      <td>0.935641</td>\n",
              "      <td>1.930727</td>\n",
              "      <td>4.203510</td>\n",
              "      <td>5.290337</td>\n",
              "      <td>236.950701</td>\n",
              "      <td>18.964137</td>\n",
              "      <td>5.172264</td>\n",
              "      <td>1763.230961</td>\n",
              "      <td>...</td>\n",
              "      <td>11.451334</td>\n",
              "      <td>2.770127</td>\n",
              "      <td>8.664314</td>\n",
              "      <td>9.083047</td>\n",
              "      <td>220.443342</td>\n",
              "      <td>1.780946</td>\n",
              "      <td>18.144205</td>\n",
              "      <td>6.379079</td>\n",
              "      <td>5.195984</td>\n",
              "      <td>12.244557</td>\n",
              "    </tr>\n",
              "    <tr>\n",
              "      <th>min</th>\n",
              "      <td>2950.000000</td>\n",
              "      <td>1.300000</td>\n",
              "      <td>0.800000</td>\n",
              "      <td>3.400000</td>\n",
              "      <td>14.000000</td>\n",
              "      <td>10.000000</td>\n",
              "      <td>0.000000</td>\n",
              "      <td>4.000000</td>\n",
              "      <td>5.000000</td>\n",
              "      <td>1002.000000</td>\n",
              "      <td>...</td>\n",
              "      <td>23.200000</td>\n",
              "      <td>1.100000</td>\n",
              "      <td>4.000000</td>\n",
              "      <td>4.000000</td>\n",
              "      <td>0.000000</td>\n",
              "      <td>6.400000</td>\n",
              "      <td>0.000000</td>\n",
              "      <td>0.000000</td>\n",
              "      <td>0.000000</td>\n",
              "      <td>7.000000</td>\n",
              "    </tr>\n",
              "    <tr>\n",
              "      <th>25%</th>\n",
              "      <td>6278.000000</td>\n",
              "      <td>3.100000</td>\n",
              "      <td>2.900000</td>\n",
              "      <td>6.800000</td>\n",
              "      <td>28.000000</td>\n",
              "      <td>24.000000</td>\n",
              "      <td>157.000000</td>\n",
              "      <td>30.000000</td>\n",
              "      <td>14.000000</td>\n",
              "      <td>1899.500000</td>\n",
              "      <td>...</td>\n",
              "      <td>46.200000</td>\n",
              "      <td>7.000000</td>\n",
              "      <td>18.000000</td>\n",
              "      <td>25.000000</td>\n",
              "      <td>127.500000</td>\n",
              "      <td>9.800000</td>\n",
              "      <td>0.000000</td>\n",
              "      <td>4.000000</td>\n",
              "      <td>3.000000</td>\n",
              "      <td>38.000000</td>\n",
              "    </tr>\n",
              "    <tr>\n",
              "      <th>50%</th>\n",
              "      <td>7620.000000</td>\n",
              "      <td>3.700000</td>\n",
              "      <td>3.400000</td>\n",
              "      <td>7.900000</td>\n",
              "      <td>31.000000</td>\n",
              "      <td>28.000000</td>\n",
              "      <td>245.000000</td>\n",
              "      <td>43.000000</td>\n",
              "      <td>18.000000</td>\n",
              "      <td>2703.000000</td>\n",
              "      <td>...</td>\n",
              "      <td>54.500000</td>\n",
              "      <td>8.500000</td>\n",
              "      <td>24.000000</td>\n",
              "      <td>30.000000</td>\n",
              "      <td>224.000000</td>\n",
              "      <td>11.300000</td>\n",
              "      <td>0.000000</td>\n",
              "      <td>7.800000</td>\n",
              "      <td>6.000000</td>\n",
              "      <td>47.000000</td>\n",
              "    </tr>\n",
              "    <tr>\n",
              "      <th>75%</th>\n",
              "      <td>9254.000000</td>\n",
              "      <td>4.400000</td>\n",
              "      <td>4.100000</td>\n",
              "      <td>9.200000</td>\n",
              "      <td>33.000000</td>\n",
              "      <td>31.000000</td>\n",
              "      <td>394.000000</td>\n",
              "      <td>57.000000</td>\n",
              "      <td>21.000000</td>\n",
              "      <td>3922.000000</td>\n",
              "      <td>...</td>\n",
              "      <td>62.600000</td>\n",
              "      <td>10.400000</td>\n",
              "      <td>30.000000</td>\n",
              "      <td>36.000000</td>\n",
              "      <td>372.000000</td>\n",
              "      <td>12.700000</td>\n",
              "      <td>7.500000</td>\n",
              "      <td>11.400000</td>\n",
              "      <td>9.000000</td>\n",
              "      <td>54.000000</td>\n",
              "    </tr>\n",
              "    <tr>\n",
              "      <th>max</th>\n",
              "      <td>19937.000000</td>\n",
              "      <td>8.500000</td>\n",
              "      <td>7.300000</td>\n",
              "      <td>17.500000</td>\n",
              "      <td>48.000000</td>\n",
              "      <td>44.000000</td>\n",
              "      <td>2245.000000</td>\n",
              "      <td>120.000000</td>\n",
              "      <td>38.000000</td>\n",
              "      <td>9975.000000</td>\n",
              "      <td>...</td>\n",
              "      <td>90.400000</td>\n",
              "      <td>29.700000</td>\n",
              "      <td>62.000000</td>\n",
              "      <td>75.000000</td>\n",
              "      <td>1987.000000</td>\n",
              "      <td>14.800000</td>\n",
              "      <td>100.000000</td>\n",
              "      <td>62.400000</td>\n",
              "      <td>44.000000</td>\n",
              "      <td>100.000000</td>\n",
              "    </tr>\n",
              "  </tbody>\n",
              "</table>\n",
              "<p>8 rows × 24 columns</p>\n",
              "</div>\n",
              "      <button class=\"colab-df-convert\" onclick=\"convertToInteractive('df-f90707e9-d803-4377-a69c-016a657d1ce6')\"\n",
              "              title=\"Convert this dataframe to an interactive table.\"\n",
              "              style=\"display:none;\">\n",
              "        \n",
              "  <svg xmlns=\"http://www.w3.org/2000/svg\" height=\"24px\"viewBox=\"0 0 24 24\"\n",
              "       width=\"24px\">\n",
              "    <path d=\"M0 0h24v24H0V0z\" fill=\"none\"/>\n",
              "    <path d=\"M18.56 5.44l.94 2.06.94-2.06 2.06-.94-2.06-.94-.94-2.06-.94 2.06-2.06.94zm-11 1L8.5 8.5l.94-2.06 2.06-.94-2.06-.94L8.5 2.5l-.94 2.06-2.06.94zm10 10l.94 2.06.94-2.06 2.06-.94-2.06-.94-.94-2.06-.94 2.06-2.06.94z\"/><path d=\"M17.41 7.96l-1.37-1.37c-.4-.4-.92-.59-1.43-.59-.52 0-1.04.2-1.43.59L10.3 9.45l-7.72 7.72c-.78.78-.78 2.05 0 2.83L4 21.41c.39.39.9.59 1.41.59.51 0 1.02-.2 1.41-.59l7.78-7.78 2.81-2.81c.8-.78.8-2.07 0-2.86zM5.41 20L4 18.59l7.72-7.72 1.47 1.35L5.41 20z\"/>\n",
              "  </svg>\n",
              "      </button>\n",
              "      \n",
              "  <style>\n",
              "    .colab-df-container {\n",
              "      display:flex;\n",
              "      flex-wrap:wrap;\n",
              "      gap: 12px;\n",
              "    }\n",
              "\n",
              "    .colab-df-convert {\n",
              "      background-color: #E8F0FE;\n",
              "      border: none;\n",
              "      border-radius: 50%;\n",
              "      cursor: pointer;\n",
              "      display: none;\n",
              "      fill: #1967D2;\n",
              "      height: 32px;\n",
              "      padding: 0 0 0 0;\n",
              "      width: 32px;\n",
              "    }\n",
              "\n",
              "    .colab-df-convert:hover {\n",
              "      background-color: #E2EBFA;\n",
              "      box-shadow: 0px 1px 2px rgba(60, 64, 67, 0.3), 0px 1px 3px 1px rgba(60, 64, 67, 0.15);\n",
              "      fill: #174EA6;\n",
              "    }\n",
              "\n",
              "    [theme=dark] .colab-df-convert {\n",
              "      background-color: #3B4455;\n",
              "      fill: #D2E3FC;\n",
              "    }\n",
              "\n",
              "    [theme=dark] .colab-df-convert:hover {\n",
              "      background-color: #434B5C;\n",
              "      box-shadow: 0px 1px 3px 1px rgba(0, 0, 0, 0.15);\n",
              "      filter: drop-shadow(0px 1px 2px rgba(0, 0, 0, 0.3));\n",
              "      fill: #FFFFFF;\n",
              "    }\n",
              "  </style>\n",
              "\n",
              "      <script>\n",
              "        const buttonEl =\n",
              "          document.querySelector('#df-f90707e9-d803-4377-a69c-016a657d1ce6 button.colab-df-convert');\n",
              "        buttonEl.style.display =\n",
              "          google.colab.kernel.accessAllowed ? 'block' : 'none';\n",
              "\n",
              "        async function convertToInteractive(key) {\n",
              "          const element = document.querySelector('#df-f90707e9-d803-4377-a69c-016a657d1ce6');\n",
              "          const dataTable =\n",
              "            await google.colab.kernel.invokeFunction('convertToInteractive',\n",
              "                                                     [key], {});\n",
              "          if (!dataTable) return;\n",
              "\n",
              "          const docLinkHtml = 'Like what you see? Visit the ' +\n",
              "            '<a target=\"_blank\" href=https://colab.research.google.com/notebooks/data_table.ipynb>data table notebook</a>'\n",
              "            + ' to learn more about interactive tables.';\n",
              "          element.innerHTML = '';\n",
              "          dataTable['output_type'] = 'display_data';\n",
              "          await google.colab.output.renderOutput(dataTable, element);\n",
              "          const docLink = document.createElement('div');\n",
              "          docLink.innerHTML = docLinkHtml;\n",
              "          element.appendChild(docLink);\n",
              "        }\n",
              "      </script>\n",
              "    </div>\n",
              "  </div>\n",
              "  "
            ]
          },
          "metadata": {},
          "execution_count": 165
        }
      ]
    },
    {
      "cell_type": "markdown",
      "source": [
        "And let's scale the data so as to make sure we are comparing apples to apples:"
      ],
      "metadata": {
        "id": "T2-2bu_51cH1"
      }
    },
    {
      "cell_type": "code",
      "metadata": {
        "id": "aVSWGGQ-kVhg",
        "colab": {
          "base_uri": "https://localhost:8080/"
        },
        "outputId": "156e78c8-c5ca-4e24-e191-f2088064c209"
      },
      "source": [
        "scaler = MinMaxScaler()\n",
        "scaler.fit(health)\n",
        "health_sc = scaler.transform(health)\n",
        "health_sc"
      ],
      "execution_count": 166,
      "outputs": [
        {
          "output_type": "execute_result",
          "data": {
            "text/plain": [
              "array([[0.31942073, 0.52777778, 0.53846154, ..., 0.11698718, 0.22727273,\n",
              "        0.48387097],\n",
              "       [0.28374639, 0.27777778, 0.46153846, ..., 0.13942308, 0.11363636,\n",
              "        0.30107527],\n",
              "       [0.3831165 , 0.51388889, 0.50769231, ..., 0.05929487, 0.25      ,\n",
              "        0.52688172],\n",
              "       ...,\n",
              "       [0.30735268, 0.375     , 0.4       , ..., 0.15224359, 0.15909091,\n",
              "        0.38709677],\n",
              "       [0.21369282, 0.22222222, 0.23076923, ..., 0.375     , 0.06818182,\n",
              "        0.31182796],\n",
              "       [0.15794431, 0.26388889, 0.33846154, ..., 0.22275641, 0.09090909,\n",
              "        0.13978495]])"
            ]
          },
          "metadata": {},
          "execution_count": 166
        }
      ]
    },
    {
      "cell_type": "markdown",
      "source": [
        "## Clustering\n",
        "\n",
        "### K-Means clustering\n",
        "\n",
        "Let's commence with k-means clustering, which is avalable in the library `sklearn.cluster` (along with other clustering algorithms, see below). To decide on the number of clusters, we evaluate how the within-sum-of-squares varies between the number of clusters using a so-called *elbow plot*:\n"
      ],
      "metadata": {
        "id": "VGmhd4rb1dlV"
      }
    },
    {
      "cell_type": "code",
      "metadata": {
        "id": "NF4Tvu-imXH7",
        "colab": {
          "base_uri": "https://localhost:8080/",
          "height": 295
        },
        "outputId": "7e533b8a-ff5b-4249-eb84-a021c74efa44"
      },
      "source": [
        "wcss = []\n",
        "for i in range(2, 12):\n",
        "    kmeans = KMeans(n_clusters=i, init='k-means++', max_iter=1000, n_init=10, random_state=0)\n",
        "    kmeans.fit(health_sc)\n",
        "    wcss.append(kmeans.inertia_)\n",
        "plt.bar(range(2, 12), wcss)\n",
        "plt.title('Elbow Method')\n",
        "plt.xlabel('Number of clusters')\n",
        "plt.ylabel('WCSS')\n",
        "plt.show()"
      ],
      "execution_count": 167,
      "outputs": [
        {
          "output_type": "display_data",
          "data": {
            "text/plain": [
              "<Figure size 432x288 with 1 Axes>"
            ],
            "image/png": "[encoded data removed]"
          },
          "metadata": {
            "needs_background": "light"
          }
        }
      ]
    },
    {
      "cell_type": "markdown",
      "source": [
        "It appears that six clusters seem to present a reasonable choice, there is a bit of an \"elbow\" there. So let's go with six:"
      ],
      "metadata": {
        "id": "LlIwaq1N3J4j"
      }
    },
    {
      "cell_type": "code",
      "metadata": {
        "id": "0J1JGhuVnqGv",
        "colab": {
          "base_uri": "https://localhost:8080/"
        },
        "outputId": "b0a0da41-fed3-4783-f335-0a83362fe962"
      },
      "source": [
        "kmeans = KMeans(n_clusters=6, init='k-means++', max_iter=1000, n_init=10, random_state=0)\n",
        "kmeans.fit(health_sc)"
      ],
      "execution_count": 168,
      "outputs": [
        {
          "output_type": "execute_result",
          "data": {
            "text/plain": [
              "KMeans(max_iter=1000, n_clusters=6, random_state=0)"
            ]
          },
          "metadata": {},
          "execution_count": 168
        }
      ]
    },
    {
      "cell_type": "markdown",
      "source": [
        "We can get the labels via:"
      ],
      "metadata": {
        "id": "cOXho1k23ok6"
      }
    },
    {
      "cell_type": "code",
      "source": [
        "kmeans.labels_"
      ],
      "metadata": {
        "colab": {
          "base_uri": "https://localhost:8080/"
        },
        "id": "jtsoEKP_3tLZ",
        "outputId": "db221704-d332-467c-b39d-9101adbffaab"
      },
      "execution_count": 169,
      "outputs": [
        {
          "output_type": "execute_result",
          "data": {
            "text/plain": [
              "array([1, 1, 2, ..., 3, 3, 3], dtype=int32)"
            ]
          },
          "metadata": {},
          "execution_count": 169
        }
      ]
    },
    {
      "cell_type": "markdown",
      "source": [
        "Let's add to our dataset:"
      ],
      "metadata": {
        "id": "fgE-k3VH9nLl"
      }
    },
    {
      "cell_type": "code",
      "source": [
        "health['k_means_cl'] = kmeans.labels_"
      ],
      "metadata": {
        "id": "GJ_sfTvh9pE2"
      },
      "execution_count": 170,
      "outputs": []
    },
    {
      "cell_type": "markdown",
      "source": [
        "Let's compare the different clusters by evaluating the YPLL.Rate (Years of Potential Life Lost). "
      ],
      "metadata": {
        "id": "hHZYmnlK_Jrf"
      }
    },
    {
      "cell_type": "code",
      "source": [
        "health[health['k_means_cl'] == 0]['YPLL.Rate'].mean()"
      ],
      "metadata": {
        "colab": {
          "base_uri": "https://localhost:8080/"
        },
        "id": "bG0zgwt5-XMo",
        "outputId": "5c5cc4c6-e20a-435a-aea9-336e16c48ba1"
      },
      "execution_count": 171,
      "outputs": [
        {
          "output_type": "execute_result",
          "data": {
            "text/plain": [
              "5618.843910806175"
            ]
          },
          "metadata": {},
          "execution_count": 171
        }
      ]
    },
    {
      "cell_type": "code",
      "source": [
        "health[health['k_means_cl'] == 1]['YPLL.Rate'].mean()"
      ],
      "metadata": {
        "colab": {
          "base_uri": "https://localhost:8080/"
        },
        "id": "HTplXWaf_eLt",
        "outputId": "70da08a4-3196-418a-c406-1492a45fd1ac"
      },
      "execution_count": 172,
      "outputs": [
        {
          "output_type": "execute_result",
          "data": {
            "text/plain": [
              "7436.093062605753"
            ]
          },
          "metadata": {},
          "execution_count": 172
        }
      ]
    },
    {
      "cell_type": "code",
      "source": [
        "health[health['k_means_cl'] == 2]['YPLL.Rate'].mean()"
      ],
      "metadata": {
        "colab": {
          "base_uri": "https://localhost:8080/"
        },
        "id": "ddf2dbEl_eON",
        "outputId": "4a83345e-fab6-4e4f-d980-63b82e7934de"
      },
      "execution_count": 173,
      "outputs": [
        {
          "output_type": "execute_result",
          "data": {
            "text/plain": [
              "10552.69921875"
            ]
          },
          "metadata": {},
          "execution_count": 173
        }
      ]
    },
    {
      "cell_type": "code",
      "source": [
        "health[health['k_means_cl'] == 3]['YPLL.Rate'].mean()"
      ],
      "metadata": {
        "colab": {
          "base_uri": "https://localhost:8080/"
        },
        "id": "QZPQh5Xc_eRL",
        "outputId": "1e960552-0d22-46b5-a63a-f6f09f14e2d8"
      },
      "execution_count": 174,
      "outputs": [
        {
          "output_type": "execute_result",
          "data": {
            "text/plain": [
              "7698.467849223946"
            ]
          },
          "metadata": {},
          "execution_count": 174
        }
      ]
    },
    {
      "cell_type": "code",
      "source": [
        "health[health['k_means_cl'] == 4]['YPLL.Rate'].mean()"
      ],
      "metadata": {
        "colab": {
          "base_uri": "https://localhost:8080/"
        },
        "id": "kq_DhtSp_eTK",
        "outputId": "760f245c-8129-44e5-cf39-21499a44668e"
      },
      "execution_count": 175,
      "outputs": [
        {
          "output_type": "execute_result",
          "data": {
            "text/plain": [
              "9982.53638814016"
            ]
          },
          "metadata": {},
          "execution_count": 175
        }
      ]
    },
    {
      "cell_type": "code",
      "source": [
        "health[health['k_means_cl'] == 5]['YPLL.Rate'].mean()"
      ],
      "metadata": {
        "colab": {
          "base_uri": "https://localhost:8080/"
        },
        "id": "pNqE83nb_n-3",
        "outputId": "ea44427e-183c-4340-cf7d-a047a136c0bb"
      },
      "execution_count": 176,
      "outputs": [
        {
          "output_type": "execute_result",
          "data": {
            "text/plain": [
              "9424.296296296296"
            ]
          },
          "metadata": {},
          "execution_count": 176
        }
      ]
    },
    {
      "cell_type": "markdown",
      "source": [
        "Let's relabel so it's increasing:"
      ],
      "metadata": {
        "id": "euotX4dR_tFA"
      }
    },
    {
      "cell_type": "code",
      "source": [
        "def relab(label):\n",
        "  if label == 0:\n",
        "    return 0\n",
        "  elif label == 1:\n",
        "    return 1\n",
        "  elif label == 2:\n",
        "    return 5\n",
        "  elif label == 3:\n",
        "    return 2\n",
        "  elif label == 4:\n",
        "    return 4\n",
        "  else:\n",
        "    return 3"
      ],
      "metadata": {
        "id": "Umgy4pQ-F7m7"
      },
      "execution_count": 177,
      "outputs": []
    },
    {
      "cell_type": "code",
      "source": [
        "kmlab = list(map(relab, kmeans.labels_))"
      ],
      "metadata": {
        "id": "reVaZbJTHH08"
      },
      "execution_count": 178,
      "outputs": []
    },
    {
      "cell_type": "code",
      "source": [
        "health['k_means_cl'] = kmlab"
      ],
      "metadata": {
        "id": "LeY28w_K5hGM"
      },
      "execution_count": 179,
      "outputs": []
    },
    {
      "cell_type": "markdown",
      "source": [
        "### Hierarchical Clustering\n",
        "\n",
        "Let's use the hierarchical clustering algorithm in scikit (`AgglomerativeClustering`). Plotting a *dendrogram* is easier with the `scipy.cluster.hierarchy`, yet given the size of the dataset we don't see a ton here. \n",
        "\n",
        "To compare with the k-means approach, let's run a hierarchical clustering also with six clusters."
      ],
      "metadata": {
        "id": "yWrU6Bnl3u0d"
      }
    },
    {
      "cell_type": "code",
      "source": [
        "hierarch = AgglomerativeClustering(n_clusters=6)\n",
        "hierarch.fit(health_sc)"
      ],
      "metadata": {
        "colab": {
          "base_uri": "https://localhost:8080/"
        },
        "id": "1oBxQTqs7p4B",
        "outputId": "adea5d52-6b15-4793-d65b-6780942f8e3c"
      },
      "execution_count": 180,
      "outputs": [
        {
          "output_type": "execute_result",
          "data": {
            "text/plain": [
              "AgglomerativeClustering(n_clusters=6)"
            ]
          },
          "metadata": {},
          "execution_count": 180
        }
      ]
    },
    {
      "cell_type": "markdown",
      "source": [
        "Again, we can get the labels via:"
      ],
      "metadata": {
        "id": "gYDv_mNx8tTj"
      }
    },
    {
      "cell_type": "code",
      "source": [
        "hierarch.labels_"
      ],
      "metadata": {
        "colab": {
          "base_uri": "https://localhost:8080/"
        },
        "id": "Ogxz292p8J9Z",
        "outputId": "34738f6d-c855-4e9c-d057-100ed787c850"
      },
      "execution_count": 181,
      "outputs": [
        {
          "output_type": "execute_result",
          "data": {
            "text/plain": [
              "array([3, 3, 0, ..., 1, 1, 1])"
            ]
          },
          "metadata": {},
          "execution_count": 181
        }
      ]
    },
    {
      "cell_type": "markdown",
      "source": [
        "Let's also add to the dataset and carry out a similar approach as before:"
      ],
      "metadata": {
        "id": "Q3_hVGRN55AV"
      }
    },
    {
      "cell_type": "code",
      "source": [
        "health['k_hier_cl'] = hierarch.labels_"
      ],
      "metadata": {
        "id": "3mgy8-NK5-Ld"
      },
      "execution_count": 182,
      "outputs": []
    },
    {
      "cell_type": "code",
      "source": [
        "health[health['k_hier_cl'] == 0]['YPLL.Rate'].mean()"
      ],
      "metadata": {
        "colab": {
          "base_uri": "https://localhost:8080/"
        },
        "id": "ib6Xuvyo8p4I",
        "outputId": "df332f2c-698b-428f-e669-89a6e3aed04c"
      },
      "execution_count": 183,
      "outputs": [
        {
          "output_type": "execute_result",
          "data": {
            "text/plain": [
              "10747.716763005781"
            ]
          },
          "metadata": {},
          "execution_count": 183
        }
      ]
    },
    {
      "cell_type": "code",
      "source": [
        "health[health['k_hier_cl'] == 1]['YPLL.Rate'].mean()"
      ],
      "metadata": {
        "colab": {
          "base_uri": "https://localhost:8080/"
        },
        "id": "X9t8epBf8p1p",
        "outputId": "de6bdeb8-c72a-4cf1-b704-c4fda840b141"
      },
      "execution_count": 184,
      "outputs": [
        {
          "output_type": "execute_result",
          "data": {
            "text/plain": [
              "8133.551526717557"
            ]
          },
          "metadata": {},
          "execution_count": 184
        }
      ]
    },
    {
      "cell_type": "code",
      "source": [
        "health[health['k_hier_cl'] == 2]['YPLL.Rate'].mean()"
      ],
      "metadata": {
        "colab": {
          "base_uri": "https://localhost:8080/"
        },
        "id": "lpS1mFd18pyR",
        "outputId": "b7cc5d27-0c71-47a5-858a-a7677390a4fc"
      },
      "execution_count": 185,
      "outputs": [
        {
          "output_type": "execute_result",
          "data": {
            "text/plain": [
              "5637.884782608696"
            ]
          },
          "metadata": {},
          "execution_count": 185
        }
      ]
    },
    {
      "cell_type": "code",
      "source": [
        "health[health['k_hier_cl'] == 3]['YPLL.Rate'].mean()"
      ],
      "metadata": {
        "colab": {
          "base_uri": "https://localhost:8080/"
        },
        "id": "bMakZhkB8pq2",
        "outputId": "6507ff01-205d-441e-f07b-360ee5871362"
      },
      "execution_count": 186,
      "outputs": [
        {
          "output_type": "execute_result",
          "data": {
            "text/plain": [
              "8358.641025641025"
            ]
          },
          "metadata": {},
          "execution_count": 186
        }
      ]
    },
    {
      "cell_type": "code",
      "source": [
        "health[health['k_hier_cl'] == 4]['YPLL.Rate'].mean()"
      ],
      "metadata": {
        "colab": {
          "base_uri": "https://localhost:8080/"
        },
        "id": "d0sBEYLn8pgm",
        "outputId": "1d27eade-b9b2-492f-cc48-fe2422c9dd97"
      },
      "execution_count": 187,
      "outputs": [
        {
          "output_type": "execute_result",
          "data": {
            "text/plain": [
              "8356.783783783783"
            ]
          },
          "metadata": {},
          "execution_count": 187
        }
      ]
    },
    {
      "cell_type": "code",
      "source": [
        "health[health['k_hier_cl'] == 5]['YPLL.Rate'].mean()"
      ],
      "metadata": {
        "colab": {
          "base_uri": "https://localhost:8080/"
        },
        "id": "Inm4wef88zpi",
        "outputId": "0154a578-436a-4885-d13e-4ab1567e3765"
      },
      "execution_count": 188,
      "outputs": [
        {
          "output_type": "execute_result",
          "data": {
            "text/plain": [
              "6744.8328767123285"
            ]
          },
          "metadata": {},
          "execution_count": 188
        }
      ]
    },
    {
      "cell_type": "code",
      "source": [
        "def relab2(label):\n",
        "  if label == 0:\n",
        "    return 5\n",
        "  elif label == 1:\n",
        "    return 2\n",
        "  elif label == 2:\n",
        "    return 0\n",
        "  elif label == 3:\n",
        "    return 4\n",
        "  elif label == 4:\n",
        "    return 3\n",
        "  else:\n",
        "    return 1"
      ],
      "metadata": {
        "id": "5cHreh5l9BK6"
      },
      "execution_count": 189,
      "outputs": []
    },
    {
      "cell_type": "code",
      "source": [
        "hierlab = list(map(relab2, hierarch.labels_))"
      ],
      "metadata": {
        "id": "6rUa25gq9X_1"
      },
      "execution_count": 190,
      "outputs": []
    },
    {
      "cell_type": "code",
      "source": [
        "health['k_hier_cl'] = hierlab "
      ],
      "metadata": {
        "id": "kgom-7Rl9hCS"
      },
      "execution_count": 191,
      "outputs": []
    },
    {
      "cell_type": "markdown",
      "source": [
        "Let's compare the two:"
      ],
      "metadata": {
        "id": "VzFnwZJW5yj1"
      }
    },
    {
      "cell_type": "code",
      "source": [
        "labels = [0,1,2,3,4,5]\n",
        "confusion_matrix(health['k_means_cl'],health['k_hier_cl'],labels=labels)"
      ],
      "metadata": {
        "colab": {
          "base_uri": "https://localhost:8080/"
        },
        "id": "u84XOdUS9qs1",
        "outputId": "1c0a6cfd-0f6e-4cb0-8a2c-33264bbc74fb"
      },
      "execution_count": 192,
      "outputs": [
        {
          "output_type": "execute_result",
          "data": {
            "text/plain": [
              "array([[423,  99,  22,  35,   4,   0],\n",
              "       [  3, 229,  32,  11, 313,   3],\n",
              "       [ 34,  28, 364,  12,  13,   0],\n",
              "       [  0,   0,  11, 115,   1,   8],\n",
              "       [  0,   0,  65,  10, 160, 136],\n",
              "       [  0,   9,  30,   2,  16, 199]])"
            ]
          },
          "metadata": {},
          "execution_count": 192
        }
      ]
    },
    {
      "cell_type": "markdown",
      "source": [
        "So it looks like there is quite a bit of overlap, particularly with regards to clusters 0, 1, and 2. It appears clusters 4 and 5 are overlapping. However, it also is clear that assigning points to clusters isn't highly obvious."
      ],
      "metadata": {
        "id": "ps_F7hxy8JrU"
      }
    },
    {
      "cell_type": "markdown",
      "source": [
        "### Visualizing Clusters\n",
        "\n",
        "Let's visualize clusters by comparing the distributions of some of the features across clusters. As we had discussed, comparing distributions can be conveniently accomplished via box-whisker plots.\n",
        "\n",
        "Let's start with children in poverty."
      ],
      "metadata": {
        "id": "X7GF4qiTA0Ll"
      }
    },
    {
      "cell_type": "code",
      "source": [
        "sns.boxplot(x = \"k_means_cl\", y = \"Perc.Children.in.Poverty\", data = health)\n",
        "plt.show()"
      ],
      "metadata": {
        "colab": {
          "base_uri": "https://localhost:8080/",
          "height": 280
        },
        "id": "HYKSMgk6_wJE",
        "outputId": "24c9fb78-b505-4c9a-dedc-68594d0dd50c"
      },
      "execution_count": 194,
      "outputs": [
        {
          "output_type": "display_data",
          "data": {
            "text/plain": [
              "<Figure size 432x288 with 1 Axes>"
            ],
            "image/png": "[encoded data removed]"
          },
          "metadata": {
            "needs_background": "light"
          }
        }
      ]
    },
    {
      "cell_type": "markdown",
      "source": [
        "Recall that we sorted the clusters according to YPLL.Rate (Years of Potential Life Lost), so more years of life lost is a sign of worse health. It appears that this weakly aligns with children poverty.\n",
        "\n",
        "Let's look at violent crimes."
      ],
      "metadata": {
        "id": "0CDlt4LMBRi4"
      }
    },
    {
      "cell_type": "code",
      "source": [
        "sns.boxplot(x = \"k_means_cl\", y = \"Violent.Crime.Rate\", data = health)\n",
        "plt.show()"
      ],
      "metadata": {
        "colab": {
          "base_uri": "https://localhost:8080/",
          "height": 280
        },
        "id": "BD-oXwLXBwtV",
        "outputId": "30037853-cfa9-4269-e329-8cecd38da2ef"
      },
      "execution_count": 195,
      "outputs": [
        {
          "output_type": "display_data",
          "data": {
            "text/plain": [
              "<Figure size 432x288 with 1 Axes>"
            ],
            "image/png": "[encoded data removed]"
          },
          "metadata": {
            "needs_background": "light"
          }
        }
      ]
    },
    {
      "cell_type": "markdown",
      "source": [
        "So here we have a weak alignment, although cluster 4 seems a bit lower. Let's look at fast food concentration."
      ],
      "metadata": {
        "id": "gypA3GKUB9JR"
      }
    },
    {
      "cell_type": "code",
      "source": [
        "sns.boxplot(x = \"k_means_cl\", y = \"Perc.Fast.Foods\", data = health)\n",
        "plt.show()"
      ],
      "metadata": {
        "colab": {
          "base_uri": "https://localhost:8080/",
          "height": 280
        },
        "id": "yRJkARhMCQDt",
        "outputId": "b92d0bf2-a844-446b-84c7-a0b2516df24c"
      },
      "execution_count": 196,
      "outputs": [
        {
          "output_type": "display_data",
          "data": {
            "text/plain": [
              "<Figure size 432x288 with 1 Axes>"
            ],
            "image/png": "[encoded data removed]"
          },
          "metadata": {
            "needs_background": "light"
          }
        }
      ]
    }
  ]
}